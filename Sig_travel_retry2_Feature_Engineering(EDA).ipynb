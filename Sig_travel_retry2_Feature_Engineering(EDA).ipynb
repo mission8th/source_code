{
  "nbformat": 4,
  "nbformat_minor": 0,
  "metadata": {
    "colab": {
      "provenance": [],
      "authorship_tag": "ABX9TyOZBrxhPOvCTcdR5hAKqVsb"
    },
    "kernelspec": {
      "name": "python3",
      "display_name": "Python 3"
    },
    "language_info": {
      "name": "python"
    }
  },
  "cells": [
    {
      "cell_type": "code",
      "source": [
        "#ここからtrainとtestへ戻してそれぞれ特徴量生成を行う\n",
        "df_train = df_all0[df_all0[\"level_0\"] == \"train\"].drop(columns = [\"level_0\"])\n",
        "df_test = df_all0[df_all0[\"level_0\"] == \"test\"].drop(columns = [\"level_0\"])"
      ],
      "metadata": {
        "id": "UTR7XTx6xuK_"
      },
      "execution_count": null,
      "outputs": []
    },
    {
      "cell_type": "code",
      "source": [
        "df_train.info()"
      ],
      "metadata": {
        "colab": {
          "base_uri": "https://localhost:8080/"
        },
        "id": "Luof8p4Yytnn",
        "outputId": "a7ea1a6f-f3f8-40a6-d3ce-e671ab6279ba"
      },
      "execution_count": null,
      "outputs": [
        {
          "output_type": "stream",
          "name": "stdout",
          "text": [
            "<class 'pandas.core.frame.DataFrame'>\n",
            "Index: 3489 entries, 0 to 3488\n",
            "Data columns (total 36 columns):\n",
            " #   Column                  Non-Null Count  Dtype   \n",
            "---  ------                  --------------  -----   \n",
            " 0   id                      3489 non-null   int64   \n",
            " 1   Age                     3489 non-null   category\n",
            " 2   TypeofContact           3483 non-null   category\n",
            " 3   CityTier                3489 non-null   int64   \n",
            " 4   DurationOfPitch         3489 non-null   category\n",
            " 5   Occupation              3489 non-null   category\n",
            " 6   Gender                  3489 non-null   category\n",
            " 7   NumberOfPersonVisiting  3489 non-null   float64 \n",
            " 8   NumberOfFollowups       3456 non-null   float64 \n",
            " 9   ProductPitched          3489 non-null   category\n",
            " 10  PreferredPropertyStar   3489 non-null   float64 \n",
            " 11  NumberOfTrips           3489 non-null   category\n",
            " 12  Passport                3489 non-null   int64   \n",
            " 13  PitchSatisfactionScore  3489 non-null   int64   \n",
            " 14  Designation             3489 non-null   category\n",
            " 15  MonthlyIncome           3489 non-null   category\n",
            " 16  customer_info           3489 non-null   category\n",
            " 17  ProdTaken               3489 non-null   float64 \n",
            " 18  Age_cleaned             3489 non-null   category\n",
            " 19  Age_numeric             3396 non-null   float64 \n",
            " 20  Pitch分                  3489 non-null   category\n",
            " 21  Pitch_minutes           3368 non-null   Int64   \n",
            " 22  Gender_enc              3489 non-null   int64   \n",
            " 23  ProductPitched_low      3489 non-null   category\n",
            " 24  NumberOfTrips_year      3489 non-null   int64   \n",
            " 25  Designation_low         3489 non-null   category\n",
            " 26  MonthlyIncome_ext       3433 non-null   float64 \n",
            " 27  child_info              3489 non-null   category\n",
            " 28  customer_info_removed   3489 non-null   category\n",
            " 29  material_status         3489 non-null   category\n",
            " 30  customer_info_rem2      3489 non-null   category\n",
            " 31  car_status              3489 non-null   category\n",
            " 32  child_info_int          3489 non-null   float64 \n",
            " 33  child_info_cat          3489 non-null   float64 \n",
            " 34  material_count          3489 non-null   int64   \n",
            " 35  car_status_count        3489 non-null   int64   \n",
            "dtypes: Int64(1), category(19), float64(8), int64(8)\n",
            "memory usage: 873.3 KB\n"
          ]
        }
      ]
    },
    {
      "cell_type": "code",
      "source": [
        "df_test.info()"
      ],
      "metadata": {
        "colab": {
          "base_uri": "https://localhost:8080/"
        },
        "id": "y-z48lHcyvVf",
        "outputId": "d080965e-1f7c-495e-969a-8f17e5bc4a0a"
      },
      "execution_count": null,
      "outputs": [
        {
          "output_type": "stream",
          "name": "stdout",
          "text": [
            "<class 'pandas.core.frame.DataFrame'>\n",
            "Index: 3489 entries, 0 to 3488\n",
            "Data columns (total 36 columns):\n",
            " #   Column                  Non-Null Count  Dtype   \n",
            "---  ------                  --------------  -----   \n",
            " 0   id                      3489 non-null   int64   \n",
            " 1   Age                     3489 non-null   category\n",
            " 2   TypeofContact           3477 non-null   category\n",
            " 3   CityTier                3489 non-null   int64   \n",
            " 4   DurationOfPitch         3489 non-null   category\n",
            " 5   Occupation              3489 non-null   category\n",
            " 6   Gender                  3489 non-null   category\n",
            " 7   NumberOfPersonVisiting  3489 non-null   float64 \n",
            " 8   NumberOfFollowups       3465 non-null   float64 \n",
            " 9   ProductPitched          3489 non-null   category\n",
            " 10  PreferredPropertyStar   3489 non-null   float64 \n",
            " 11  NumberOfTrips           3489 non-null   category\n",
            " 12  Passport                3489 non-null   int64   \n",
            " 13  PitchSatisfactionScore  3489 non-null   int64   \n",
            " 14  Designation             3489 non-null   category\n",
            " 15  MonthlyIncome           3489 non-null   category\n",
            " 16  customer_info           3489 non-null   category\n",
            " 17  ProdTaken               0 non-null      float64 \n",
            " 18  Age_cleaned             3489 non-null   category\n",
            " 19  Age_numeric             3396 non-null   float64 \n",
            " 20  Pitch分                  3489 non-null   category\n",
            " 21  Pitch_minutes           3358 non-null   Int64   \n",
            " 22  Gender_enc              3489 non-null   int64   \n",
            " 23  ProductPitched_low      3489 non-null   category\n",
            " 24  NumberOfTrips_year      3489 non-null   int64   \n",
            " 25  Designation_low         3489 non-null   category\n",
            " 26  MonthlyIncome_ext       3440 non-null   float64 \n",
            " 27  child_info              3489 non-null   category\n",
            " 28  customer_info_removed   3489 non-null   category\n",
            " 29  material_status         3489 non-null   category\n",
            " 30  customer_info_rem2      3489 non-null   category\n",
            " 31  car_status              3489 non-null   category\n",
            " 32  child_info_int          3489 non-null   float64 \n",
            " 33  child_info_cat          3489 non-null   float64 \n",
            " 34  material_count          3489 non-null   int64   \n",
            " 35  car_status_count        3489 non-null   int64   \n",
            "dtypes: Int64(1), category(19), float64(8), int64(8)\n",
            "memory usage: 873.3 KB\n"
          ]
        }
      ]
    },
    {
      "cell_type": "code",
      "source": [
        "# 頻度を計算\n",
        "type_counts = df_train[\"TypeofContact\"].value_counts()\n",
        "\n",
        "# 頻度に基づいて値をソート (降順)\n",
        "sorted_types = type_counts.sort_values(ascending=False).index.tolist()\n",
        "\n",
        "# sorted_types に nan を追加\n",
        "sorted_types.append(np.nan)\n",
        "\n",
        "# OrdinalEncoderを作成 (NaN に -1 を割り当てる)\n",
        "oe = OrdinalEncoder(categories=[sorted_types], encoded_missing_value=-1, handle_unknown=\"use_encoded_value\", unknown_value=-1)  # handle_unknownとunknown_valueを追加\n",
        "\n",
        "# df_train に対してエンコード\n",
        "df_train[\"TypeofContact_oe\"] = oe.fit_transform(df_train[[\"TypeofContact\"]])\n",
        "\n",
        "# df_test に対してエンコード (fit_transformではなくtransformを使用)\n",
        "df_test[\"TypeofContact_oe\"] = oe.transform(df_test[[\"TypeofContact\"]])  # transformに変更"
      ],
      "metadata": {
        "id": "gWgH19iL0v7d"
      },
      "execution_count": null,
      "outputs": []
    },
    {
      "cell_type": "code",
      "source": [
        "df_train[\"TypeofContact_oe\"].value_counts()"
      ],
      "metadata": {
        "colab": {
          "base_uri": "https://localhost:8080/",
          "height": 210
        },
        "id": "oGz8TmKf1va1",
        "outputId": "96ef911e-8750-4617-fd6f-70a85779bea9"
      },
      "execution_count": null,
      "outputs": [
        {
          "output_type": "execute_result",
          "data": {
            "text/plain": [
              "TypeofContact_oe\n",
              " 0.0    2194\n",
              " 1.0    1289\n",
              "-1.0       6\n",
              "Name: count, dtype: int64"
            ],
            "text/html": [
              "<div>\n",
              "<style scoped>\n",
              "    .dataframe tbody tr th:only-of-type {\n",
              "        vertical-align: middle;\n",
              "    }\n",
              "\n",
              "    .dataframe tbody tr th {\n",
              "        vertical-align: top;\n",
              "    }\n",
              "\n",
              "    .dataframe thead th {\n",
              "        text-align: right;\n",
              "    }\n",
              "</style>\n",
              "<table border=\"1\" class=\"dataframe\">\n",
              "  <thead>\n",
              "    <tr style=\"text-align: right;\">\n",
              "      <th></th>\n",
              "      <th>count</th>\n",
              "    </tr>\n",
              "    <tr>\n",
              "      <th>TypeofContact_oe</th>\n",
              "      <th></th>\n",
              "    </tr>\n",
              "  </thead>\n",
              "  <tbody>\n",
              "    <tr>\n",
              "      <th>0.0</th>\n",
              "      <td>2194</td>\n",
              "    </tr>\n",
              "    <tr>\n",
              "      <th>1.0</th>\n",
              "      <td>1289</td>\n",
              "    </tr>\n",
              "    <tr>\n",
              "      <th>-1.0</th>\n",
              "      <td>6</td>\n",
              "    </tr>\n",
              "  </tbody>\n",
              "</table>\n",
              "</div><br><label><b>dtype:</b> int64</label>"
            ]
          },
          "metadata": {},
          "execution_count": 719
        }
      ]
    },
    {
      "cell_type": "code",
      "source": [
        "df_test[\"TypeofContact_oe\"].value_counts()"
      ],
      "metadata": {
        "colab": {
          "base_uri": "https://localhost:8080/",
          "height": 210
        },
        "id": "lT1QqlvT1w8W",
        "outputId": "e35fa005-11a8-43e7-df15-9e7fc1c86aef"
      },
      "execution_count": null,
      "outputs": [
        {
          "output_type": "execute_result",
          "data": {
            "text/plain": [
              "TypeofContact_oe\n",
              " 0.0    2250\n",
              " 1.0    1227\n",
              "-1.0      12\n",
              "Name: count, dtype: int64"
            ],
            "text/html": [
              "<div>\n",
              "<style scoped>\n",
              "    .dataframe tbody tr th:only-of-type {\n",
              "        vertical-align: middle;\n",
              "    }\n",
              "\n",
              "    .dataframe tbody tr th {\n",
              "        vertical-align: top;\n",
              "    }\n",
              "\n",
              "    .dataframe thead th {\n",
              "        text-align: right;\n",
              "    }\n",
              "</style>\n",
              "<table border=\"1\" class=\"dataframe\">\n",
              "  <thead>\n",
              "    <tr style=\"text-align: right;\">\n",
              "      <th></th>\n",
              "      <th>count</th>\n",
              "    </tr>\n",
              "    <tr>\n",
              "      <th>TypeofContact_oe</th>\n",
              "      <th></th>\n",
              "    </tr>\n",
              "  </thead>\n",
              "  <tbody>\n",
              "    <tr>\n",
              "      <th>0.0</th>\n",
              "      <td>2250</td>\n",
              "    </tr>\n",
              "    <tr>\n",
              "      <th>1.0</th>\n",
              "      <td>1227</td>\n",
              "    </tr>\n",
              "    <tr>\n",
              "      <th>-1.0</th>\n",
              "      <td>12</td>\n",
              "    </tr>\n",
              "  </tbody>\n",
              "</table>\n",
              "</div><br><label><b>dtype:</b> int64</label>"
            ]
          },
          "metadata": {},
          "execution_count": 720
        }
      ]
    },
    {
      "cell_type": "code",
      "source": [
        "#version２\n",
        "# df_train に TypeofContact_binary カラムを追加\n",
        "df_train['TypeofContact_binary'] = df_train['TypeofContact'].map({'Self Enquiry': 0, 'Company Invited': 1}).fillna(0).astype(\"category\")\n",
        "\n",
        "# df_test に TypeofContact_binary カラムを追加\n",
        "df_test['TypeofContact_binary'] = df_test['TypeofContact'].map({'Self Enquiry': 0, 'Company Invited': 1}).fillna(0).astype(\"category\")"
      ],
      "metadata": {
        "id": "e_h_Bnws10W5"
      },
      "execution_count": null,
      "outputs": []
    },
    {
      "cell_type": "code",
      "source": [
        "df_train['TypeofContact_binary'].value_counts()"
      ],
      "metadata": {
        "colab": {
          "base_uri": "https://localhost:8080/",
          "height": 178
        },
        "id": "xt2Visbm2jRb",
        "outputId": "d3942202-d10e-4198-b22e-0cf0c88d15b9"
      },
      "execution_count": null,
      "outputs": [
        {
          "output_type": "execute_result",
          "data": {
            "text/plain": [
              "TypeofContact_binary\n",
              "0    2200\n",
              "1    1289\n",
              "Name: count, dtype: int64"
            ],
            "text/html": [
              "<div>\n",
              "<style scoped>\n",
              "    .dataframe tbody tr th:only-of-type {\n",
              "        vertical-align: middle;\n",
              "    }\n",
              "\n",
              "    .dataframe tbody tr th {\n",
              "        vertical-align: top;\n",
              "    }\n",
              "\n",
              "    .dataframe thead th {\n",
              "        text-align: right;\n",
              "    }\n",
              "</style>\n",
              "<table border=\"1\" class=\"dataframe\">\n",
              "  <thead>\n",
              "    <tr style=\"text-align: right;\">\n",
              "      <th></th>\n",
              "      <th>count</th>\n",
              "    </tr>\n",
              "    <tr>\n",
              "      <th>TypeofContact_binary</th>\n",
              "      <th></th>\n",
              "    </tr>\n",
              "  </thead>\n",
              "  <tbody>\n",
              "    <tr>\n",
              "      <th>0</th>\n",
              "      <td>2200</td>\n",
              "    </tr>\n",
              "    <tr>\n",
              "      <th>1</th>\n",
              "      <td>1289</td>\n",
              "    </tr>\n",
              "  </tbody>\n",
              "</table>\n",
              "</div><br><label><b>dtype:</b> int64</label>"
            ]
          },
          "metadata": {},
          "execution_count": 722
        }
      ]
    },
    {
      "cell_type": "code",
      "source": [
        "df_test['TypeofContact_binary'].value_counts()"
      ],
      "metadata": {
        "colab": {
          "base_uri": "https://localhost:8080/",
          "height": 178
        },
        "id": "tZo4ymsd2lbP",
        "outputId": "9a498923-fa8b-4ea3-eeda-93e8c980c1ec"
      },
      "execution_count": null,
      "outputs": [
        {
          "output_type": "execute_result",
          "data": {
            "text/plain": [
              "TypeofContact_binary\n",
              "0    2262\n",
              "1    1227\n",
              "Name: count, dtype: int64"
            ],
            "text/html": [
              "<div>\n",
              "<style scoped>\n",
              "    .dataframe tbody tr th:only-of-type {\n",
              "        vertical-align: middle;\n",
              "    }\n",
              "\n",
              "    .dataframe tbody tr th {\n",
              "        vertical-align: top;\n",
              "    }\n",
              "\n",
              "    .dataframe thead th {\n",
              "        text-align: right;\n",
              "    }\n",
              "</style>\n",
              "<table border=\"1\" class=\"dataframe\">\n",
              "  <thead>\n",
              "    <tr style=\"text-align: right;\">\n",
              "      <th></th>\n",
              "      <th>count</th>\n",
              "    </tr>\n",
              "    <tr>\n",
              "      <th>TypeofContact_binary</th>\n",
              "      <th></th>\n",
              "    </tr>\n",
              "  </thead>\n",
              "  <tbody>\n",
              "    <tr>\n",
              "      <th>0</th>\n",
              "      <td>2262</td>\n",
              "    </tr>\n",
              "    <tr>\n",
              "      <th>1</th>\n",
              "      <td>1227</td>\n",
              "    </tr>\n",
              "  </tbody>\n",
              "</table>\n",
              "</div><br><label><b>dtype:</b> int64</label>"
            ]
          },
          "metadata": {},
          "execution_count": 723
        }
      ]
    },
    {
      "cell_type": "code",
      "source": [
        "#頻度を計算\n",
        "occupation_counts = df_train[\"Occupation\"].value_counts()\n",
        "\n",
        "# 頻度に基づいて値をソート (降順)\n",
        "sorted_occupations = occupation_counts.sort_values(ascending=False).index.tolist()\n",
        "\n",
        "# OrdinalEncoderを作成\n",
        "# handle_unknownとunknown_valueを追加\n",
        "oe = OrdinalEncoder(categories=[sorted_occupations], handle_unknown=\"use_encoded_value\", unknown_value=-1)\n",
        "\n",
        "# df_train に対してエンコード\n",
        "df_train[\"Occupation_oe\"] = oe.fit_transform(df_train[[\"Occupation\"]])\n",
        "\n",
        "# df_test に対してエンコード\n",
        "df_test[\"Occupation_oe\"] = oe.transform(df_test[[\"Occupation\"]])"
      ],
      "metadata": {
        "id": "g6HQcBYc2zjN"
      },
      "execution_count": null,
      "outputs": []
    },
    {
      "cell_type": "code",
      "source": [
        "df_train[\"Occupation_oe\"].value_counts()"
      ],
      "metadata": {
        "colab": {
          "base_uri": "https://localhost:8080/",
          "height": 210
        },
        "id": "d_jWjnjh3YQc",
        "outputId": "d565e4e0-43c6-4ca1-81c7-d49e11562561"
      },
      "execution_count": null,
      "outputs": [
        {
          "output_type": "execute_result",
          "data": {
            "text/plain": [
              "Occupation_oe\n",
              "0.0    1727\n",
              "1.0    1401\n",
              "2.0     361\n",
              "Name: count, dtype: int64"
            ],
            "text/html": [
              "<div>\n",
              "<style scoped>\n",
              "    .dataframe tbody tr th:only-of-type {\n",
              "        vertical-align: middle;\n",
              "    }\n",
              "\n",
              "    .dataframe tbody tr th {\n",
              "        vertical-align: top;\n",
              "    }\n",
              "\n",
              "    .dataframe thead th {\n",
              "        text-align: right;\n",
              "    }\n",
              "</style>\n",
              "<table border=\"1\" class=\"dataframe\">\n",
              "  <thead>\n",
              "    <tr style=\"text-align: right;\">\n",
              "      <th></th>\n",
              "      <th>count</th>\n",
              "    </tr>\n",
              "    <tr>\n",
              "      <th>Occupation_oe</th>\n",
              "      <th></th>\n",
              "    </tr>\n",
              "  </thead>\n",
              "  <tbody>\n",
              "    <tr>\n",
              "      <th>0.0</th>\n",
              "      <td>1727</td>\n",
              "    </tr>\n",
              "    <tr>\n",
              "      <th>1.0</th>\n",
              "      <td>1401</td>\n",
              "    </tr>\n",
              "    <tr>\n",
              "      <th>2.0</th>\n",
              "      <td>361</td>\n",
              "    </tr>\n",
              "  </tbody>\n",
              "</table>\n",
              "</div><br><label><b>dtype:</b> int64</label>"
            ]
          },
          "metadata": {},
          "execution_count": 725
        }
      ]
    },
    {
      "cell_type": "code",
      "source": [
        "df_test[\"Occupation_oe\"].value_counts()"
      ],
      "metadata": {
        "colab": {
          "base_uri": "https://localhost:8080/",
          "height": 210
        },
        "id": "ukeoG9vC3acD",
        "outputId": "b9064587-5d77-4e24-a950-16be1db7a946"
      },
      "execution_count": null,
      "outputs": [
        {
          "output_type": "execute_result",
          "data": {
            "text/plain": [
              "Occupation_oe\n",
              "0.0    1729\n",
              "1.0    1400\n",
              "2.0     360\n",
              "Name: count, dtype: int64"
            ],
            "text/html": [
              "<div>\n",
              "<style scoped>\n",
              "    .dataframe tbody tr th:only-of-type {\n",
              "        vertical-align: middle;\n",
              "    }\n",
              "\n",
              "    .dataframe tbody tr th {\n",
              "        vertical-align: top;\n",
              "    }\n",
              "\n",
              "    .dataframe thead th {\n",
              "        text-align: right;\n",
              "    }\n",
              "</style>\n",
              "<table border=\"1\" class=\"dataframe\">\n",
              "  <thead>\n",
              "    <tr style=\"text-align: right;\">\n",
              "      <th></th>\n",
              "      <th>count</th>\n",
              "    </tr>\n",
              "    <tr>\n",
              "      <th>Occupation_oe</th>\n",
              "      <th></th>\n",
              "    </tr>\n",
              "  </thead>\n",
              "  <tbody>\n",
              "    <tr>\n",
              "      <th>0.0</th>\n",
              "      <td>1729</td>\n",
              "    </tr>\n",
              "    <tr>\n",
              "      <th>1.0</th>\n",
              "      <td>1400</td>\n",
              "    </tr>\n",
              "    <tr>\n",
              "      <th>2.0</th>\n",
              "      <td>360</td>\n",
              "    </tr>\n",
              "  </tbody>\n",
              "</table>\n",
              "</div><br><label><b>dtype:</b> int64</label>"
            ]
          },
          "metadata": {},
          "execution_count": 726
        }
      ]
    },
    {
      "cell_type": "code",
      "source": [
        "# df_train に対してワンホットエンコーディング\n",
        "gender_encoded_train = pd.get_dummies(df_train[\"Gender_enc\"], prefix=\"Gender\", dtype=int)\n",
        "df_train = pd.concat([df_train, gender_encoded_train], axis=1)\n",
        "\n",
        "# df_test に対してワンホットエンコーディング\n",
        "gender_encoded_test = pd.get_dummies(df_test[\"Gender_enc\"], prefix=\"Gender\", dtype=int)\n",
        "df_test = pd.concat([df_test, gender_encoded_test], axis=1)"
      ],
      "metadata": {
        "id": "DXUsZfj03eeg"
      },
      "execution_count": null,
      "outputs": []
    },
    {
      "cell_type": "code",
      "source": [
        "#100以上の外れ値を最大値補完\n",
        "df_train['NumberOfFollowups_max'] = df_train['NumberOfFollowups'].apply(lambda x: x / 100 if x >= 100 else x)\n",
        "\n",
        "# df_test に NumberOfFollowups_max カラムを追加\n",
        "df_test['NumberOfFollowups_max'] = df_test['NumberOfFollowups'].apply(lambda x: x / 100 if x >= 100 else x)"
      ],
      "metadata": {
        "id": "-wcyYqHi4IYJ"
      },
      "execution_count": null,
      "outputs": []
    },
    {
      "cell_type": "code",
      "source": [
        "df_train['NumberOfFollowups_max'].value_counts()"
      ],
      "metadata": {
        "colab": {
          "base_uri": "https://localhost:8080/",
          "height": 304
        },
        "id": "ZzsvudmI4tqg",
        "outputId": "10528ed3-cf9b-4ba1-96b0-efe5b9927c8f"
      },
      "execution_count": null,
      "outputs": [
        {
          "output_type": "execute_result",
          "data": {
            "text/plain": [
              "NumberOfFollowups_max\n",
              "4.0    1411\n",
              "3.0    1296\n",
              "5.0     524\n",
              "2.0     108\n",
              "1.0      78\n",
              "6.0      39\n",
              "Name: count, dtype: int64"
            ],
            "text/html": [
              "<div>\n",
              "<style scoped>\n",
              "    .dataframe tbody tr th:only-of-type {\n",
              "        vertical-align: middle;\n",
              "    }\n",
              "\n",
              "    .dataframe tbody tr th {\n",
              "        vertical-align: top;\n",
              "    }\n",
              "\n",
              "    .dataframe thead th {\n",
              "        text-align: right;\n",
              "    }\n",
              "</style>\n",
              "<table border=\"1\" class=\"dataframe\">\n",
              "  <thead>\n",
              "    <tr style=\"text-align: right;\">\n",
              "      <th></th>\n",
              "      <th>count</th>\n",
              "    </tr>\n",
              "    <tr>\n",
              "      <th>NumberOfFollowups_max</th>\n",
              "      <th></th>\n",
              "    </tr>\n",
              "  </thead>\n",
              "  <tbody>\n",
              "    <tr>\n",
              "      <th>4.0</th>\n",
              "      <td>1411</td>\n",
              "    </tr>\n",
              "    <tr>\n",
              "      <th>3.0</th>\n",
              "      <td>1296</td>\n",
              "    </tr>\n",
              "    <tr>\n",
              "      <th>5.0</th>\n",
              "      <td>524</td>\n",
              "    </tr>\n",
              "    <tr>\n",
              "      <th>2.0</th>\n",
              "      <td>108</td>\n",
              "    </tr>\n",
              "    <tr>\n",
              "      <th>1.0</th>\n",
              "      <td>78</td>\n",
              "    </tr>\n",
              "    <tr>\n",
              "      <th>6.0</th>\n",
              "      <td>39</td>\n",
              "    </tr>\n",
              "  </tbody>\n",
              "</table>\n",
              "</div><br><label><b>dtype:</b> int64</label>"
            ]
          },
          "metadata": {},
          "execution_count": 729
        }
      ]
    },
    {
      "cell_type": "code",
      "source": [
        "df_test['NumberOfFollowups_max'].isnull().sum()"
      ],
      "metadata": {
        "colab": {
          "base_uri": "https://localhost:8080/"
        },
        "id": "SXhphPfq43m8",
        "outputId": "1c115b0f-2a93-48ae-e400-bd6b18bb53a7"
      },
      "execution_count": null,
      "outputs": [
        {
          "output_type": "execute_result",
          "data": {
            "text/plain": [
              "24"
            ]
          },
          "metadata": {},
          "execution_count": 730
        }
      ]
    },
    {
      "cell_type": "code",
      "source": [
        "#nanを活かす方向でも残しておく\n",
        "# df_train に NumberOfFollowups_nan-1 カラムを追加\n",
        "df_train['NumberOfFollowups_nan-1'] = pd.to_numeric(df_train['NumberOfFollowups_max'], errors='coerce').fillna(-1).astype(int)\n",
        "df_train.loc[df_train['NumberOfFollowups'].isin(['0', 0]), 'NumberOfFollowups_nan-1'] = -1\n",
        "\n",
        "# df_test に NumberOfFollowups_nan-1 カラムを追加\n",
        "df_test['NumberOfFollowups_nan-1'] = pd.to_numeric(df_test['NumberOfFollowups_max'], errors='coerce').fillna(-1).astype(int)\n",
        "df_test.loc[df_test['NumberOfFollowups'].isin(['0', 0]), 'NumberOfFollowups_nan-1'] = -1"
      ],
      "metadata": {
        "id": "QpIhu1Y75MzB"
      },
      "execution_count": null,
      "outputs": []
    },
    {
      "cell_type": "code",
      "source": [
        "df_train[\"NumberOfFollowups_nan-1\"].value_counts()"
      ],
      "metadata": {
        "colab": {
          "base_uri": "https://localhost:8080/",
          "height": 335
        },
        "id": "8hyrZOzZ5kqY",
        "outputId": "313535d6-6531-4f75-b8dc-dd5d4e3df10b"
      },
      "execution_count": null,
      "outputs": [
        {
          "output_type": "execute_result",
          "data": {
            "text/plain": [
              "NumberOfFollowups_nan-1\n",
              " 4    1411\n",
              " 3    1296\n",
              " 5     524\n",
              " 2     108\n",
              " 1      78\n",
              " 6      39\n",
              "-1      33\n",
              "Name: count, dtype: int64"
            ],
            "text/html": [
              "<div>\n",
              "<style scoped>\n",
              "    .dataframe tbody tr th:only-of-type {\n",
              "        vertical-align: middle;\n",
              "    }\n",
              "\n",
              "    .dataframe tbody tr th {\n",
              "        vertical-align: top;\n",
              "    }\n",
              "\n",
              "    .dataframe thead th {\n",
              "        text-align: right;\n",
              "    }\n",
              "</style>\n",
              "<table border=\"1\" class=\"dataframe\">\n",
              "  <thead>\n",
              "    <tr style=\"text-align: right;\">\n",
              "      <th></th>\n",
              "      <th>count</th>\n",
              "    </tr>\n",
              "    <tr>\n",
              "      <th>NumberOfFollowups_nan-1</th>\n",
              "      <th></th>\n",
              "    </tr>\n",
              "  </thead>\n",
              "  <tbody>\n",
              "    <tr>\n",
              "      <th>4</th>\n",
              "      <td>1411</td>\n",
              "    </tr>\n",
              "    <tr>\n",
              "      <th>3</th>\n",
              "      <td>1296</td>\n",
              "    </tr>\n",
              "    <tr>\n",
              "      <th>5</th>\n",
              "      <td>524</td>\n",
              "    </tr>\n",
              "    <tr>\n",
              "      <th>2</th>\n",
              "      <td>108</td>\n",
              "    </tr>\n",
              "    <tr>\n",
              "      <th>1</th>\n",
              "      <td>78</td>\n",
              "    </tr>\n",
              "    <tr>\n",
              "      <th>6</th>\n",
              "      <td>39</td>\n",
              "    </tr>\n",
              "    <tr>\n",
              "      <th>-1</th>\n",
              "      <td>33</td>\n",
              "    </tr>\n",
              "  </tbody>\n",
              "</table>\n",
              "</div><br><label><b>dtype:</b> int64</label>"
            ]
          },
          "metadata": {},
          "execution_count": 732
        }
      ]
    },
    {
      "cell_type": "code",
      "source": [
        "plt.hist(df_train[\"NumberOfFollowups_nan-1\"], bins=[0, 1, 2,4,6])"
      ],
      "metadata": {
        "colab": {
          "base_uri": "https://localhost:8080/",
          "height": 482
        },
        "id": "wllfRm4q5qoU",
        "outputId": "7f3742e3-93d6-48ff-fa88-97ba81498412"
      },
      "execution_count": null,
      "outputs": [
        {
          "output_type": "execute_result",
          "data": {
            "text/plain": [
              "(array([   0.,   78., 1404., 1974.]),\n",
              " array([0., 1., 2., 4., 6.]),\n",
              " <BarContainer object of 4 artists>)"
            ]
          },
          "metadata": {},
          "execution_count": 733
        },
        {
          "output_type": "display_data",
          "data": {
            "text/plain": [
              "<Figure size 640x480 with 1 Axes>"
            ],
            "image/png": "[encoded data removed]"
          },
          "metadata": {}
        }
      ]
    },
    {
      "cell_type": "code",
      "source": [
        "#最頻値を取得\n",
        "most_frequent_value = df_train['NumberOfFollowups_max'].mode()[0]\n",
        "\n",
        "# df_train に適用 (NaN 値と 0 を同時に置換)\n",
        "df_train['NumberOfFollowups_max'] = df_train['NumberOfFollowups_max'].replace({0: most_frequent_value, np.nan: most_frequent_value})\n",
        "\n",
        "# df_test にも同様の処理を適用\n",
        "df_test['NumberOfFollowups_max'] = df_test['NumberOfFollowups_max'].replace({0: most_frequent_value, np.nan: most_frequent_value})"
      ],
      "metadata": {
        "id": "Ed_DV6Rygtej"
      },
      "execution_count": null,
      "outputs": []
    },
    {
      "cell_type": "code",
      "source": [
        "print(df_train['NumberOfFollowups_max'].isnull().sum())  # NaN 値の数を表示\n",
        "print(df_train['NumberOfFollowups_max'].value_counts())  # 各値の出現回数を表示\n"
      ],
      "metadata": {
        "colab": {
          "base_uri": "https://localhost:8080/"
        },
        "id": "l8JX9HAvUjw_",
        "outputId": "1de153f6-ed76-49b3-8081-77a2a1aa0e46"
      },
      "execution_count": null,
      "outputs": [
        {
          "output_type": "stream",
          "name": "stdout",
          "text": [
            "0\n",
            "NumberOfFollowups_max\n",
            "4.0    1444\n",
            "3.0    1296\n",
            "5.0     524\n",
            "2.0     108\n",
            "1.0      78\n",
            "6.0      39\n",
            "Name: count, dtype: int64\n"
          ]
        }
      ]
    },
    {
      "cell_type": "code",
      "source": [
        "#各意味合いに沿ってrank化\n",
        "rank_dict = {\n",
        "    'king': 5,\n",
        "    'superdeluxe': 4,\n",
        "    'deluxe': 3,\n",
        "    'standard': 2,\n",
        "    'basic': 1\n",
        "}\n",
        "\n",
        "\n",
        "df_train['ProductPitched_Score'] = df_train['ProductPitched_low'].map(rank_dict)\n",
        "\n",
        "# df_test にも ProductPitched_Score カラムを追加\n",
        "df_test['ProductPitched_Score'] = df_test['ProductPitched_low'].map(rank_dict)"
      ],
      "metadata": {
        "id": "0Cfi0LIF5zoF"
      },
      "execution_count": null,
      "outputs": []
    },
    {
      "cell_type": "code",
      "source": [
        "df_train[\"ProductPitched_Score\"] = df_train[\"ProductPitched_Score\"].astype(int)\n",
        "df_test[\"ProductPitched_Score\"] = df_test[\"ProductPitched_Score\"].astype(int)"
      ],
      "metadata": {
        "id": "12xTLGKH6LbX"
      },
      "execution_count": null,
      "outputs": []
    },
    {
      "cell_type": "code",
      "source": [
        "#欠損値として扱う特徴量としておく\n",
        "df_train[\"NumberOfTrips_year-1\"] = df_train[\"NumberOfTrips_year\"].replace(0, -1)\n",
        "\n",
        "df_test[\"NumberOfTrips_year-1\"] = df_test[\"NumberOfTrips_year\"].replace(0, -1)\n",
        "\n",
        "df_train[\"NumberOfTrips_year-1\"].value_counts()"
      ],
      "metadata": {
        "colab": {
          "base_uri": "https://localhost:8080/",
          "height": 398
        },
        "id": "JIpxN7gX6ONH",
        "outputId": "32cf5680-b251-41c7-fa9c-3cbc8a60c164"
      },
      "execution_count": null,
      "outputs": [
        {
          "output_type": "execute_result",
          "data": {
            "text/plain": [
              "NumberOfTrips_year-1\n",
              " 2    1164\n",
              " 3     820\n",
              " 5     515\n",
              " 1     409\n",
              " 7     256\n",
              " 4     163\n",
              " 6     130\n",
              "-1      22\n",
              " 8      10\n",
              "Name: count, dtype: int64"
            ],
            "text/html": [
              "<div>\n",
              "<style scoped>\n",
              "    .dataframe tbody tr th:only-of-type {\n",
              "        vertical-align: middle;\n",
              "    }\n",
              "\n",
              "    .dataframe tbody tr th {\n",
              "        vertical-align: top;\n",
              "    }\n",
              "\n",
              "    .dataframe thead th {\n",
              "        text-align: right;\n",
              "    }\n",
              "</style>\n",
              "<table border=\"1\" class=\"dataframe\">\n",
              "  <thead>\n",
              "    <tr style=\"text-align: right;\">\n",
              "      <th></th>\n",
              "      <th>count</th>\n",
              "    </tr>\n",
              "    <tr>\n",
              "      <th>NumberOfTrips_year-1</th>\n",
              "      <th></th>\n",
              "    </tr>\n",
              "  </thead>\n",
              "  <tbody>\n",
              "    <tr>\n",
              "      <th>2</th>\n",
              "      <td>1164</td>\n",
              "    </tr>\n",
              "    <tr>\n",
              "      <th>3</th>\n",
              "      <td>820</td>\n",
              "    </tr>\n",
              "    <tr>\n",
              "      <th>5</th>\n",
              "      <td>515</td>\n",
              "    </tr>\n",
              "    <tr>\n",
              "      <th>1</th>\n",
              "      <td>409</td>\n",
              "    </tr>\n",
              "    <tr>\n",
              "      <th>7</th>\n",
              "      <td>256</td>\n",
              "    </tr>\n",
              "    <tr>\n",
              "      <th>4</th>\n",
              "      <td>163</td>\n",
              "    </tr>\n",
              "    <tr>\n",
              "      <th>6</th>\n",
              "      <td>130</td>\n",
              "    </tr>\n",
              "    <tr>\n",
              "      <th>-1</th>\n",
              "      <td>22</td>\n",
              "    </tr>\n",
              "    <tr>\n",
              "      <th>8</th>\n",
              "      <td>10</td>\n",
              "    </tr>\n",
              "  </tbody>\n",
              "</table>\n",
              "</div><br><label><b>dtype:</b> int64</label>"
            ]
          },
          "metadata": {},
          "execution_count": 738
        }
      ]
    },
    {
      "cell_type": "code",
      "source": [
        "#スコア化した良い商品*満足度のスコア\n",
        "#→売り込み商品が良くて満足度が高ければ成約率も高いはず\n",
        "df_train[\"Product_Score\"] = df_train[\"ProductPitched_Score\"]*df_train[\"PitchSatisfactionScore\"]\n",
        "\n",
        "df_test[\"Product_Score\"] = df_test[\"ProductPitched_Score\"]*df_test[\"PitchSatisfactionScore\"]\n",
        "\n",
        "df_train[\"Product_Score\"].value_counts()"
      ],
      "metadata": {
        "colab": {
          "base_uri": "https://localhost:8080/",
          "height": 554
        },
        "id": "8nEK9BRa6tIY",
        "outputId": "58f078b8-a5eb-475d-df09-95c0fc82ab3d"
      },
      "execution_count": null,
      "outputs": [
        {
          "output_type": "execute_result",
          "data": {
            "text/plain": [
              "Product_Score\n",
              "4     684\n",
              "2     652\n",
              "6     559\n",
              "3     449\n",
              "12    311\n",
              "8     241\n",
              "9     185\n",
              "1     157\n",
              "10     52\n",
              "15     48\n",
              "5      47\n",
              "16     46\n",
              "20     34\n",
              "25     24\n",
              "Name: count, dtype: int64"
            ],
            "text/html": [
              "<div>\n",
              "<style scoped>\n",
              "    .dataframe tbody tr th:only-of-type {\n",
              "        vertical-align: middle;\n",
              "    }\n",
              "\n",
              "    .dataframe tbody tr th {\n",
              "        vertical-align: top;\n",
              "    }\n",
              "\n",
              "    .dataframe thead th {\n",
              "        text-align: right;\n",
              "    }\n",
              "</style>\n",
              "<table border=\"1\" class=\"dataframe\">\n",
              "  <thead>\n",
              "    <tr style=\"text-align: right;\">\n",
              "      <th></th>\n",
              "      <th>count</th>\n",
              "    </tr>\n",
              "    <tr>\n",
              "      <th>Product_Score</th>\n",
              "      <th></th>\n",
              "    </tr>\n",
              "  </thead>\n",
              "  <tbody>\n",
              "    <tr>\n",
              "      <th>4</th>\n",
              "      <td>684</td>\n",
              "    </tr>\n",
              "    <tr>\n",
              "      <th>2</th>\n",
              "      <td>652</td>\n",
              "    </tr>\n",
              "    <tr>\n",
              "      <th>6</th>\n",
              "      <td>559</td>\n",
              "    </tr>\n",
              "    <tr>\n",
              "      <th>3</th>\n",
              "      <td>449</td>\n",
              "    </tr>\n",
              "    <tr>\n",
              "      <th>12</th>\n",
              "      <td>311</td>\n",
              "    </tr>\n",
              "    <tr>\n",
              "      <th>8</th>\n",
              "      <td>241</td>\n",
              "    </tr>\n",
              "    <tr>\n",
              "      <th>9</th>\n",
              "      <td>185</td>\n",
              "    </tr>\n",
              "    <tr>\n",
              "      <th>1</th>\n",
              "      <td>157</td>\n",
              "    </tr>\n",
              "    <tr>\n",
              "      <th>10</th>\n",
              "      <td>52</td>\n",
              "    </tr>\n",
              "    <tr>\n",
              "      <th>15</th>\n",
              "      <td>48</td>\n",
              "    </tr>\n",
              "    <tr>\n",
              "      <th>5</th>\n",
              "      <td>47</td>\n",
              "    </tr>\n",
              "    <tr>\n",
              "      <th>16</th>\n",
              "      <td>46</td>\n",
              "    </tr>\n",
              "    <tr>\n",
              "      <th>20</th>\n",
              "      <td>34</td>\n",
              "    </tr>\n",
              "    <tr>\n",
              "      <th>25</th>\n",
              "      <td>24</td>\n",
              "    </tr>\n",
              "  </tbody>\n",
              "</table>\n",
              "</div><br><label><b>dtype:</b> int64</label>"
            ]
          },
          "metadata": {},
          "execution_count": 739
        }
      ]
    },
    {
      "cell_type": "code",
      "source": [
        "df_test[\"Product_Score\"].value_counts()"
      ],
      "metadata": {
        "colab": {
          "base_uri": "https://localhost:8080/",
          "height": 554
        },
        "id": "1RneXQxf7MZj",
        "outputId": "f6ba9ce7-5d03-4995-99f4-2f786e89f99a"
      },
      "execution_count": null,
      "outputs": [
        {
          "output_type": "execute_result",
          "data": {
            "text/plain": [
              "Product_Score\n",
              "2     653\n",
              "4     623\n",
              "6     547\n",
              "3     446\n",
              "12    309\n",
              "8     219\n",
              "1     204\n",
              "9     174\n",
              "10     79\n",
              "5      66\n",
              "20     49\n",
              "15     48\n",
              "16     43\n",
              "25     29\n",
              "Name: count, dtype: int64"
            ],
            "text/html": [
              "<div>\n",
              "<style scoped>\n",
              "    .dataframe tbody tr th:only-of-type {\n",
              "        vertical-align: middle;\n",
              "    }\n",
              "\n",
              "    .dataframe tbody tr th {\n",
              "        vertical-align: top;\n",
              "    }\n",
              "\n",
              "    .dataframe thead th {\n",
              "        text-align: right;\n",
              "    }\n",
              "</style>\n",
              "<table border=\"1\" class=\"dataframe\">\n",
              "  <thead>\n",
              "    <tr style=\"text-align: right;\">\n",
              "      <th></th>\n",
              "      <th>count</th>\n",
              "    </tr>\n",
              "    <tr>\n",
              "      <th>Product_Score</th>\n",
              "      <th></th>\n",
              "    </tr>\n",
              "  </thead>\n",
              "  <tbody>\n",
              "    <tr>\n",
              "      <th>2</th>\n",
              "      <td>653</td>\n",
              "    </tr>\n",
              "    <tr>\n",
              "      <th>4</th>\n",
              "      <td>623</td>\n",
              "    </tr>\n",
              "    <tr>\n",
              "      <th>6</th>\n",
              "      <td>547</td>\n",
              "    </tr>\n",
              "    <tr>\n",
              "      <th>3</th>\n",
              "      <td>446</td>\n",
              "    </tr>\n",
              "    <tr>\n",
              "      <th>12</th>\n",
              "      <td>309</td>\n",
              "    </tr>\n",
              "    <tr>\n",
              "      <th>8</th>\n",
              "      <td>219</td>\n",
              "    </tr>\n",
              "    <tr>\n",
              "      <th>1</th>\n",
              "      <td>204</td>\n",
              "    </tr>\n",
              "    <tr>\n",
              "      <th>9</th>\n",
              "      <td>174</td>\n",
              "    </tr>\n",
              "    <tr>\n",
              "      <th>10</th>\n",
              "      <td>79</td>\n",
              "    </tr>\n",
              "    <tr>\n",
              "      <th>5</th>\n",
              "      <td>66</td>\n",
              "    </tr>\n",
              "    <tr>\n",
              "      <th>20</th>\n",
              "      <td>49</td>\n",
              "    </tr>\n",
              "    <tr>\n",
              "      <th>15</th>\n",
              "      <td>48</td>\n",
              "    </tr>\n",
              "    <tr>\n",
              "      <th>16</th>\n",
              "      <td>43</td>\n",
              "    </tr>\n",
              "    <tr>\n",
              "      <th>25</th>\n",
              "      <td>29</td>\n",
              "    </tr>\n",
              "  </tbody>\n",
              "</table>\n",
              "</div><br><label><b>dtype:</b> int64</label>"
            ]
          },
          "metadata": {},
          "execution_count": 740
        }
      ]
    },
    {
      "cell_type": "code",
      "source": [
        "#スコア化した良い商品*顧客によるホテル施設の優先評価\n",
        "#→良い商品であり、施設の評価も高ければ成約率が高くなりそう\n",
        "df_train[\"Product_Property_Score\"] = df_train[\"ProductPitched_Score\"] * df_train[\"PreferredPropertyStar\"]\n",
        "\n",
        "# df_test に Product_Property_Score カラムを追加\n",
        "df_test[\"Product_Property_Score\"] = df_test[\"ProductPitched_Score\"] * df_test[\"PreferredPropertyStar\"]"
      ],
      "metadata": {
        "id": "H029s84o7PcT"
      },
      "execution_count": null,
      "outputs": []
    },
    {
      "cell_type": "code",
      "source": [
        "# 頻度を計算\n",
        "product_counts = df_train[\"Designation_low\"].value_counts()  # df_train に変更\n",
        "\n",
        "# 頻度に基づいて値をソート\n",
        "sorted_products = product_counts.index.tolist()\n",
        "\n",
        "# ラベルエンコーダーを作成\n",
        "le = LabelEncoder()\n",
        "\n",
        "# 頻度に基づいてラベルをエンコード (df_train で fit)\n",
        "le.fit(df_train[\"Designation_low\"])  # df_train[\"Designation_low\"] で fit\n",
        "\n",
        "# df_train に Designation_le カラムを追加\n",
        "df_train[\"Designation_le\"] = le.transform(df_train[\"Designation_low\"])\n",
        "\n",
        "# df_test に Designation_le カラムを追加 (df_train で fit した le を使用)\n",
        "df_test[\"Designation_le\"] = le.transform(df_test[\"Designation_low\"])"
      ],
      "metadata": {
        "id": "JDQo9kSp7q5y"
      },
      "execution_count": null,
      "outputs": []
    },
    {
      "cell_type": "code",
      "source": [
        "df_train[\"Designation_le\"].value_counts()"
      ],
      "metadata": {
        "colab": {
          "base_uri": "https://localhost:8080/",
          "height": 241
        },
        "id": "kLoH_D1v796p",
        "outputId": "00e6b713-b751-4284-f6ea-fe342d027e8b"
      },
      "execution_count": null,
      "outputs": [
        {
          "output_type": "execute_result",
          "data": {
            "text/plain": [
              "Designation_le\n",
              "0    1150\n",
              "1    1055\n",
              "2     854\n",
              "3     430\n",
              "Name: count, dtype: int64"
            ],
            "text/html": [
              "<div>\n",
              "<style scoped>\n",
              "    .dataframe tbody tr th:only-of-type {\n",
              "        vertical-align: middle;\n",
              "    }\n",
              "\n",
              "    .dataframe tbody tr th {\n",
              "        vertical-align: top;\n",
              "    }\n",
              "\n",
              "    .dataframe thead th {\n",
              "        text-align: right;\n",
              "    }\n",
              "</style>\n",
              "<table border=\"1\" class=\"dataframe\">\n",
              "  <thead>\n",
              "    <tr style=\"text-align: right;\">\n",
              "      <th></th>\n",
              "      <th>count</th>\n",
              "    </tr>\n",
              "    <tr>\n",
              "      <th>Designation_le</th>\n",
              "      <th></th>\n",
              "    </tr>\n",
              "  </thead>\n",
              "  <tbody>\n",
              "    <tr>\n",
              "      <th>0</th>\n",
              "      <td>1150</td>\n",
              "    </tr>\n",
              "    <tr>\n",
              "      <th>1</th>\n",
              "      <td>1055</td>\n",
              "    </tr>\n",
              "    <tr>\n",
              "      <th>2</th>\n",
              "      <td>854</td>\n",
              "    </tr>\n",
              "    <tr>\n",
              "      <th>3</th>\n",
              "      <td>430</td>\n",
              "    </tr>\n",
              "  </tbody>\n",
              "</table>\n",
              "</div><br><label><b>dtype:</b> int64</label>"
            ]
          },
          "metadata": {},
          "execution_count": 743
        }
      ]
    },
    {
      "cell_type": "code",
      "source": [
        "#rank化して使用する特徴量として作成\n",
        "rank_dict = {\n",
        "    'vip': 4,\n",
        "    'executive': 3,\n",
        "    'seniormanager': 2,\n",
        "    'manager': 1\n",
        "}\n",
        "\n",
        "# df_train に Designation_rank カラムを追加\n",
        "df_train[\"Designation_rank\"] = df_train[\"Designation_low\"].map(rank_dict)\n",
        "\n",
        "# df_test に Designation_rank カラムを追加\n",
        "df_test[\"Designation_rank\"] = df_test[\"Designation_low\"].map(rank_dict)"
      ],
      "metadata": {
        "id": "jHcBE-nm7_2R"
      },
      "execution_count": null,
      "outputs": []
    },
    {
      "cell_type": "code",
      "source": [
        "df_train[\"Designation_rank\"].value_counts()"
      ],
      "metadata": {
        "colab": {
          "base_uri": "https://localhost:8080/",
          "height": 241
        },
        "id": "Qz-TGP7j8Reg",
        "outputId": "28b2b1d8-d1e2-4722-e2e5-7d38a5403a74"
      },
      "execution_count": null,
      "outputs": [
        {
          "output_type": "execute_result",
          "data": {
            "text/plain": [
              "Designation_rank\n",
              "3    1150\n",
              "1    1055\n",
              "2     854\n",
              "4     430\n",
              "Name: count, dtype: int64"
            ],
            "text/html": [
              "<div>\n",
              "<style scoped>\n",
              "    .dataframe tbody tr th:only-of-type {\n",
              "        vertical-align: middle;\n",
              "    }\n",
              "\n",
              "    .dataframe tbody tr th {\n",
              "        vertical-align: top;\n",
              "    }\n",
              "\n",
              "    .dataframe thead th {\n",
              "        text-align: right;\n",
              "    }\n",
              "</style>\n",
              "<table border=\"1\" class=\"dataframe\">\n",
              "  <thead>\n",
              "    <tr style=\"text-align: right;\">\n",
              "      <th></th>\n",
              "      <th>count</th>\n",
              "    </tr>\n",
              "    <tr>\n",
              "      <th>Designation_rank</th>\n",
              "      <th></th>\n",
              "    </tr>\n",
              "  </thead>\n",
              "  <tbody>\n",
              "    <tr>\n",
              "      <th>3</th>\n",
              "      <td>1150</td>\n",
              "    </tr>\n",
              "    <tr>\n",
              "      <th>1</th>\n",
              "      <td>1055</td>\n",
              "    </tr>\n",
              "    <tr>\n",
              "      <th>2</th>\n",
              "      <td>854</td>\n",
              "    </tr>\n",
              "    <tr>\n",
              "      <th>4</th>\n",
              "      <td>430</td>\n",
              "    </tr>\n",
              "  </tbody>\n",
              "</table>\n",
              "</div><br><label><b>dtype:</b> int64</label>"
            ]
          },
          "metadata": {},
          "execution_count": 745
        }
      ]
    },
    {
      "cell_type": "code",
      "source": [
        "# Gender_encとProdTakenでデータを分割\n",
        "#特徴量を変えて視覚化\n",
        "male_prodtaken_data = df_train[(df_train['Gender_enc'] == 1) & (df_train['ProdTaken'] == 1)]['Designation_rank']\n",
        "male_notprodtaken_data = df_train[(df_train['Gender_enc'] == 1) & (df_train['ProdTaken'] == 0)]['Designation_rank']\n",
        "female_prodtaken_data = df_train[(df_train['Gender_enc'] == 0) & (df_train['ProdTaken'] == 1)]['Designation_rank']\n",
        "female_notprodtaken_data = df_train[(df_train['Gender_enc'] == 0) & (df_train['ProdTaken'] == 0)]['Designation_rank']\n",
        "\n",
        "# 全データのDesignation_rankの最小値と最大値を取得\n",
        "min_rank = df_train['Designation_rank'].astype(int).min()\n",
        "max_rank = df_train['Designation_rank'].astype(int).max()\n",
        "\n",
        "# binのエッジを指定 (例: 最小値から最大値までを1刻み)\n",
        "bins = np.arange(min_rank, max_rank + 2, 1)  # +2は最大値を含めるため\n",
        "\n",
        "# ヒストグラムを作成\n",
        "plt.figure(figsize=(12, 6))\n",
        "\n",
        "plt.subplot(2, 2, 1)\n",
        "sns.histplot(male_prodtaken_data, color='blue', kde=True, bins=bins)  # bins引数を指定\n",
        "plt.title('Male, ProdTaken=1')\n",
        "\n",
        "plt.subplot(2, 2, 2)\n",
        "sns.histplot(male_notprodtaken_data, color='blue', kde=True, bins=bins)  # bins引数を指定\n",
        "plt.title('Male, ProdTaken=0')\n",
        "\n",
        "plt.subplot(2, 2, 3)\n",
        "sns.histplot(female_prodtaken_data, color='red', kde=True, bins=bins)  # bins引数を指定\n",
        "plt.title('Female, ProdTaken=1')\n",
        "\n",
        "plt.subplot(2, 2, 4)\n",
        "sns.histplot(female_notprodtaken_data, color='red', kde=True, bins=bins)  # bins引数を指定\n",
        "plt.title('Female, ProdTaken=0')\n",
        "plt.tight_layout()\n",
        "plt.show()"
      ],
      "metadata": {
        "colab": {
          "base_uri": "https://localhost:8080/",
          "height": 412
        },
        "id": "rpbKjajUMWMI",
        "outputId": "b70b724b-5b75-4b7d-fede-1f3ec620e2e9"
      },
      "execution_count": null,
      "outputs": [
        {
          "output_type": "display_data",
          "data": {
            "text/plain": [
              "<Figure size 1200x600 with 4 Axes>"
            ],
            "image/png": "[encoded data removed]"
          },
          "metadata": {}
        }
      ]
    },
    {
      "cell_type": "code",
      "source": [
        "# 欠損値として扱う\n",
        "df_train[\"MonthlyIncome_ext-1\"] = pd.to_numeric(df_train[\"MonthlyIncome_ext\"], errors='coerce').fillna(-1).astype(int)\n",
        "\n",
        "# df_test に MonthlyIncome_ext-1 カラムを追加\n",
        "df_test[\"MonthlyIncome_ext-1\"] = pd.to_numeric(df_test[\"MonthlyIncome_ext\"], errors='coerce').fillna(-1).astype(int)"
      ],
      "metadata": {
        "id": "AoT--O8B8VTR"
      },
      "execution_count": null,
      "outputs": []
    },
    {
      "cell_type": "code",
      "source": [
        "#0 を含む欠損値を中央値で補完した特徴量も作成\n",
        "median_income_train = df_train[\"MonthlyIncome_ext\"].median()\n",
        "\n",
        "\n",
        "df_train[\"MonthlyIncome_0_med\"] = df_train[\"MonthlyIncome_ext\"].copy()\n",
        "df_train.loc[df_train[\"MonthlyIncome_0_med\"] == 0, \"MonthlyIncome_0_med\"] = np.nan\n",
        "df_train[\"MonthlyIncome_0_med\"] = df_train[\"MonthlyIncome_0_med\"].fillna(median_income_train)\n",
        "\n",
        "# df_test にも同様の処理を適用\n",
        "df_test[\"MonthlyIncome_0_med\"] = df_test[\"MonthlyIncome_ext\"].copy()\n",
        "df_test.loc[df_test[\"MonthlyIncome_0_med\"] == 0, \"MonthlyIncome_0_med\"] = np.nan\n",
        "df_test[\"MonthlyIncome_0_med\"] = df_test[\"MonthlyIncome_0_med\"].fillna(median_income_train)\n",
        "\n",
        "# 確認\n",
        "print(df_train[\"MonthlyIncome_0_med\"].isnull().sum())"
      ],
      "metadata": {
        "colab": {
          "base_uri": "https://localhost:8080/"
        },
        "id": "6bPXRtd58iFd",
        "outputId": "37e47e70-2c0c-4b2d-c64a-5c1d9a2e74c4"
      },
      "execution_count": null,
      "outputs": [
        {
          "output_type": "stream",
          "name": "stdout",
          "text": [
            "0\n"
          ]
        }
      ]
    },
    {
      "cell_type": "code",
      "source": [
        "# MonthlyIncome_0_med を更新 (百の位を四捨五入)\n",
        "df_train[\"MonthlyIncome_0_med\"] = (df_train[\"MonthlyIncome_0_med\"] / 1000).round() * 1000\n",
        "\n",
        "df_test[\"MonthlyIncome_0_med\"] = (df_test[\"MonthlyIncome_0_med\"] / 1000).round() * 1000"
      ],
      "metadata": {
        "id": "VLhx_noS9B3b"
      },
      "execution_count": null,
      "outputs": []
    },
    {
      "cell_type": "code",
      "source": [
        "df_train[\"MonthlyIncome_0_med\"].isnull().sum()"
      ],
      "metadata": {
        "colab": {
          "base_uri": "https://localhost:8080/"
        },
        "id": "A3s4WOS0_huy",
        "outputId": "83592083-d1fa-49e9-e4e7-23f0eaf8eb39"
      },
      "execution_count": null,
      "outputs": [
        {
          "output_type": "execute_result",
          "data": {
            "text/plain": [
              "0"
            ]
          },
          "metadata": {},
          "execution_count": 750
        }
      ]
    },
    {
      "cell_type": "code",
      "source": [
        "# 離婚はしているが一人暮らしでない可能性もあるため、数値割り振りを変えたもの\n",
        "def convert_material_info2(value):\n",
        "  if value in [\"結婚済み\"]:\n",
        "    return 3\n",
        "  elif value in [\"離婚済み\"]:\n",
        "    return 2\n",
        "  elif value in [\"独身\", \"未婚\"]:\n",
        "    return 1\n",
        "  else:\n",
        "    return value\n",
        "\n",
        "# df_trainに適用\n",
        "df_train['material_count2'] = df_train['material_status'].copy()\n",
        "df_train[\"material_score\"] = df_train[\"material_count2\"].apply(convert_material_info2)\n",
        "\n",
        "# df_testに適用\n",
        "df_test['material_count2'] = df_test['material_status'].copy()\n",
        "df_test[\"material_score\"] = df_test[\"material_count2\"].apply(convert_material_info2)"
      ],
      "metadata": {
        "id": "rbf5mAwXD87c"
      },
      "execution_count": null,
      "outputs": []
    },
    {
      "cell_type": "code",
      "source": [
        "#後々カテゴリ扱いとする\n",
        "df_train[\"material_score\"].value_counts()"
      ],
      "metadata": {
        "colab": {
          "base_uri": "https://localhost:8080/",
          "height": 210
        },
        "id": "91yTuK3CEcOf",
        "outputId": "477a379c-4d5c-4354-e4a5-3f007b91fd7f"
      },
      "execution_count": null,
      "outputs": [
        {
          "output_type": "execute_result",
          "data": {
            "text/plain": [
              "material_score\n",
              "3    1384\n",
              "1    1227\n",
              "2     878\n",
              "Name: count, dtype: int64"
            ],
            "text/html": [
              "<div>\n",
              "<style scoped>\n",
              "    .dataframe tbody tr th:only-of-type {\n",
              "        vertical-align: middle;\n",
              "    }\n",
              "\n",
              "    .dataframe tbody tr th {\n",
              "        vertical-align: top;\n",
              "    }\n",
              "\n",
              "    .dataframe thead th {\n",
              "        text-align: right;\n",
              "    }\n",
              "</style>\n",
              "<table border=\"1\" class=\"dataframe\">\n",
              "  <thead>\n",
              "    <tr style=\"text-align: right;\">\n",
              "      <th></th>\n",
              "      <th>count</th>\n",
              "    </tr>\n",
              "    <tr>\n",
              "      <th>material_score</th>\n",
              "      <th></th>\n",
              "    </tr>\n",
              "  </thead>\n",
              "  <tbody>\n",
              "    <tr>\n",
              "      <th>3</th>\n",
              "      <td>1384</td>\n",
              "    </tr>\n",
              "    <tr>\n",
              "      <th>1</th>\n",
              "      <td>1227</td>\n",
              "    </tr>\n",
              "    <tr>\n",
              "      <th>2</th>\n",
              "      <td>878</td>\n",
              "    </tr>\n",
              "  </tbody>\n",
              "</table>\n",
              "</div><br><label><b>dtype:</b> int64</label>"
            ]
          },
          "metadata": {},
          "execution_count": 752
        }
      ]
    },
    {
      "cell_type": "code",
      "source": [
        "#df_all[\"material_count\"]の結婚済みは２、それ以外は１とする。コピーなり一時的に違う変数に代入するなり。\n",
        "#足算してdf_all[\"family\"] へ代入し家族構成を表す特徴量とする。\n",
        "\n",
        "# df_trainへの適用\n",
        "df_train[\"material_temp\"] =  np.where(df_train[\"material_count\"] == 0, 1, df_train[\"material_count\"])\n",
        "df_train[\"child_temp\"] = df_train[\"child_info_int\"]\n",
        "df_train[\"family\"] = df_train[\"material_temp\"] + df_train[\"child_temp\"]\n",
        "df_train[\"family\"] = df_train[\"family\"].astype(int)\n",
        "df_train = df_train.drop([\"material_temp\", \"child_temp\"], axis=1)\n",
        "\n",
        "# df_testへの適用\n",
        "df_test[\"material_temp\"] = np.where(df_test[\"material_count\"] == 0, 1, df_test[\"material_count\"])\n",
        "df_test[\"child_temp\"] = df_test[\"child_info_int\"]\n",
        "df_test[\"family\"] = df_test[\"material_temp\"] + df_test[\"child_temp\"]\n",
        "df_test[\"family\"] = df_test[\"family\"].astype(int)\n",
        "df_test = df_test.drop([\"material_temp\", \"child_temp\"], axis=1)\n",
        "\n",
        "# 既婚 + 子供有無\n",
        "# 未婚・離婚 + 子供有無"
      ],
      "metadata": {
        "id": "3B9VbW0wEjOX"
      },
      "execution_count": null,
      "outputs": []
    },
    {
      "cell_type": "code",
      "source": [
        "df_train[\"family\"].value_counts()"
      ],
      "metadata": {
        "colab": {
          "base_uri": "https://localhost:8080/",
          "height": 272
        },
        "id": "mV22KMmHFI0Z",
        "outputId": "484fd7a0-6865-4798-a7b2-26dc8ac591d9"
      },
      "execution_count": null,
      "outputs": [
        {
          "output_type": "execute_result",
          "data": {
            "text/plain": [
              "family\n",
              "2    1235\n",
              "3    1139\n",
              "1     690\n",
              "4     392\n",
              "5      33\n",
              "Name: count, dtype: int64"
            ],
            "text/html": [
              "<div>\n",
              "<style scoped>\n",
              "    .dataframe tbody tr th:only-of-type {\n",
              "        vertical-align: middle;\n",
              "    }\n",
              "\n",
              "    .dataframe tbody tr th {\n",
              "        vertical-align: top;\n",
              "    }\n",
              "\n",
              "    .dataframe thead th {\n",
              "        text-align: right;\n",
              "    }\n",
              "</style>\n",
              "<table border=\"1\" class=\"dataframe\">\n",
              "  <thead>\n",
              "    <tr style=\"text-align: right;\">\n",
              "      <th></th>\n",
              "      <th>count</th>\n",
              "    </tr>\n",
              "    <tr>\n",
              "      <th>family</th>\n",
              "      <th></th>\n",
              "    </tr>\n",
              "  </thead>\n",
              "  <tbody>\n",
              "    <tr>\n",
              "      <th>2</th>\n",
              "      <td>1235</td>\n",
              "    </tr>\n",
              "    <tr>\n",
              "      <th>3</th>\n",
              "      <td>1139</td>\n",
              "    </tr>\n",
              "    <tr>\n",
              "      <th>1</th>\n",
              "      <td>690</td>\n",
              "    </tr>\n",
              "    <tr>\n",
              "      <th>4</th>\n",
              "      <td>392</td>\n",
              "    </tr>\n",
              "    <tr>\n",
              "      <th>5</th>\n",
              "      <td>33</td>\n",
              "    </tr>\n",
              "  </tbody>\n",
              "</table>\n",
              "</div><br><label><b>dtype:</b> int64</label>"
            ]
          },
          "metadata": {},
          "execution_count": 754
        }
      ]
    },
    {
      "cell_type": "code",
      "source": [
        "# NumberOfPersonVisiting と family の組み合わせごとの人数をカウント\n",
        "#旅行同行者と家族構成の割合\n",
        "\n",
        "# 集約テーブルの作成 (df_trainまたはdf_testを使用)\n",
        "df_fam = pd.crosstab(df_train[\"NumberOfPersonVisiting\"], df_train[\"family\"], normalize=\"index\")  # df_trainを使用\n",
        "df_fam = df_fam.reset_index()\n",
        "df_fam = pd.melt(df_fam, id_vars=\"NumberOfPersonVisiting\", value_name=\"family_travel_share\")\n",
        "\n",
        "# df_trainへの適用\n",
        "df_train = pd.merge(df_train, df_fam, on=[\"NumberOfPersonVisiting\", \"family\"], how=\"left\")\n",
        "\n",
        "# df_testへの適用\n",
        "df_test = pd.merge(df_test, df_fam, on=[\"NumberOfPersonVisiting\", \"family\"], how=\"left\")\n",
        "\n",
        "# 全体の要素数で割って比率を計算.%が多いほど子供を連れていく可能性が高い\n",
        "#意外と一人旅の割合高い可能性"
      ],
      "metadata": {
        "id": "ZbKg9GI6GKXL"
      },
      "execution_count": null,
      "outputs": []
    },
    {
      "cell_type": "code",
      "source": [
        "df_test[\"family_travel_share\"].value_counts()"
      ],
      "metadata": {
        "colab": {
          "base_uri": "https://localhost:8080/",
          "height": 554
        },
        "id": "ZwvDIXMWGoo5",
        "outputId": "6ede68bf-f7ff-49ac-b22f-4c845553ec14"
      },
      "execution_count": null,
      "outputs": [
        {
          "output_type": "execute_result",
          "data": {
            "text/plain": [
              "family_travel_share\n",
              "0.501866    780\n",
              "0.481481    660\n",
              "0.268035    466\n",
              "0.246187    380\n",
              "0.230100    309\n",
              "0.209877    279\n",
              "0.693452    231\n",
              "0.306548    119\n",
              "0.062455     77\n",
              "0.267857     62\n",
              "0.315476     50\n",
              "0.214286     41\n",
              "0.196429     34\n",
              "0.005952      1\n",
              "Name: count, dtype: int64"
            ],
            "text/html": [
              "<div>\n",
              "<style scoped>\n",
              "    .dataframe tbody tr th:only-of-type {\n",
              "        vertical-align: middle;\n",
              "    }\n",
              "\n",
              "    .dataframe tbody tr th {\n",
              "        vertical-align: top;\n",
              "    }\n",
              "\n",
              "    .dataframe thead th {\n",
              "        text-align: right;\n",
              "    }\n",
              "</style>\n",
              "<table border=\"1\" class=\"dataframe\">\n",
              "  <thead>\n",
              "    <tr style=\"text-align: right;\">\n",
              "      <th></th>\n",
              "      <th>count</th>\n",
              "    </tr>\n",
              "    <tr>\n",
              "      <th>family_travel_share</th>\n",
              "      <th></th>\n",
              "    </tr>\n",
              "  </thead>\n",
              "  <tbody>\n",
              "    <tr>\n",
              "      <th>0.501866</th>\n",
              "      <td>780</td>\n",
              "    </tr>\n",
              "    <tr>\n",
              "      <th>0.481481</th>\n",
              "      <td>660</td>\n",
              "    </tr>\n",
              "    <tr>\n",
              "      <th>0.268035</th>\n",
              "      <td>466</td>\n",
              "    </tr>\n",
              "    <tr>\n",
              "      <th>0.246187</th>\n",
              "      <td>380</td>\n",
              "    </tr>\n",
              "    <tr>\n",
              "      <th>0.230100</th>\n",
              "      <td>309</td>\n",
              "    </tr>\n",
              "    <tr>\n",
              "      <th>0.209877</th>\n",
              "      <td>279</td>\n",
              "    </tr>\n",
              "    <tr>\n",
              "      <th>0.693452</th>\n",
              "      <td>231</td>\n",
              "    </tr>\n",
              "    <tr>\n",
              "      <th>0.306548</th>\n",
              "      <td>119</td>\n",
              "    </tr>\n",
              "    <tr>\n",
              "      <th>0.062455</th>\n",
              "      <td>77</td>\n",
              "    </tr>\n",
              "    <tr>\n",
              "      <th>0.267857</th>\n",
              "      <td>62</td>\n",
              "    </tr>\n",
              "    <tr>\n",
              "      <th>0.315476</th>\n",
              "      <td>50</td>\n",
              "    </tr>\n",
              "    <tr>\n",
              "      <th>0.214286</th>\n",
              "      <td>41</td>\n",
              "    </tr>\n",
              "    <tr>\n",
              "      <th>0.196429</th>\n",
              "      <td>34</td>\n",
              "    </tr>\n",
              "    <tr>\n",
              "      <th>0.005952</th>\n",
              "      <td>1</td>\n",
              "    </tr>\n",
              "  </tbody>\n",
              "</table>\n",
              "</div><br><label><b>dtype:</b> int64</label>"
            ]
          },
          "metadata": {},
          "execution_count": 756
        }
      ]
    },
    {
      "cell_type": "code",
      "source": [
        "df_train[\"family\"].value_counts()"
      ],
      "metadata": {
        "colab": {
          "base_uri": "https://localhost:8080/",
          "height": 272
        },
        "id": "ibroAih5DCd8",
        "outputId": "a340b13c-7ed4-4b8f-a843-139ffb22510b"
      },
      "execution_count": null,
      "outputs": [
        {
          "output_type": "execute_result",
          "data": {
            "text/plain": [
              "family\n",
              "2    1235\n",
              "3    1139\n",
              "1     690\n",
              "4     392\n",
              "5      33\n",
              "Name: count, dtype: int64"
            ],
            "text/html": [
              "<div>\n",
              "<style scoped>\n",
              "    .dataframe tbody tr th:only-of-type {\n",
              "        vertical-align: middle;\n",
              "    }\n",
              "\n",
              "    .dataframe tbody tr th {\n",
              "        vertical-align: top;\n",
              "    }\n",
              "\n",
              "    .dataframe thead th {\n",
              "        text-align: right;\n",
              "    }\n",
              "</style>\n",
              "<table border=\"1\" class=\"dataframe\">\n",
              "  <thead>\n",
              "    <tr style=\"text-align: right;\">\n",
              "      <th></th>\n",
              "      <th>count</th>\n",
              "    </tr>\n",
              "    <tr>\n",
              "      <th>family</th>\n",
              "      <th></th>\n",
              "    </tr>\n",
              "  </thead>\n",
              "  <tbody>\n",
              "    <tr>\n",
              "      <th>2</th>\n",
              "      <td>1235</td>\n",
              "    </tr>\n",
              "    <tr>\n",
              "      <th>3</th>\n",
              "      <td>1139</td>\n",
              "    </tr>\n",
              "    <tr>\n",
              "      <th>1</th>\n",
              "      <td>690</td>\n",
              "    </tr>\n",
              "    <tr>\n",
              "      <th>4</th>\n",
              "      <td>392</td>\n",
              "    </tr>\n",
              "    <tr>\n",
              "      <th>5</th>\n",
              "      <td>33</td>\n",
              "    </tr>\n",
              "  </tbody>\n",
              "</table>\n",
              "</div><br><label><b>dtype:</b> int64</label>"
            ]
          },
          "metadata": {},
          "execution_count": 757
        }
      ]
    },
    {
      "cell_type": "code",
      "source": [
        "df_train[\"NumberOfPersonVisiting\"].value_counts()"
      ],
      "metadata": {
        "colab": {
          "base_uri": "https://localhost:8080/",
          "height": 241
        },
        "id": "t5lB4u-2DSFD",
        "outputId": "e2a51e2f-e71b-4d6a-a85c-175d89d72c60"
      },
      "execution_count": null,
      "outputs": [
        {
          "output_type": "execute_result",
          "data": {
            "text/plain": [
              "NumberOfPersonVisiting\n",
              "2.0    1608\n",
              "3.0    1377\n",
              "1.0     336\n",
              "4.0     168\n",
              "Name: count, dtype: int64"
            ],
            "text/html": [
              "<div>\n",
              "<style scoped>\n",
              "    .dataframe tbody tr th:only-of-type {\n",
              "        vertical-align: middle;\n",
              "    }\n",
              "\n",
              "    .dataframe tbody tr th {\n",
              "        vertical-align: top;\n",
              "    }\n",
              "\n",
              "    .dataframe thead th {\n",
              "        text-align: right;\n",
              "    }\n",
              "</style>\n",
              "<table border=\"1\" class=\"dataframe\">\n",
              "  <thead>\n",
              "    <tr style=\"text-align: right;\">\n",
              "      <th></th>\n",
              "      <th>count</th>\n",
              "    </tr>\n",
              "    <tr>\n",
              "      <th>NumberOfPersonVisiting</th>\n",
              "      <th></th>\n",
              "    </tr>\n",
              "  </thead>\n",
              "  <tbody>\n",
              "    <tr>\n",
              "      <th>2.0</th>\n",
              "      <td>1608</td>\n",
              "    </tr>\n",
              "    <tr>\n",
              "      <th>3.0</th>\n",
              "      <td>1377</td>\n",
              "    </tr>\n",
              "    <tr>\n",
              "      <th>1.0</th>\n",
              "      <td>336</td>\n",
              "    </tr>\n",
              "    <tr>\n",
              "      <th>4.0</th>\n",
              "      <td>168</td>\n",
              "    </tr>\n",
              "  </tbody>\n",
              "</table>\n",
              "</div><br><label><b>dtype:</b> int64</label>"
            ]
          },
          "metadata": {},
          "execution_count": 758
        }
      ]
    },
    {
      "cell_type": "code",
      "source": [
        "#旅行計画に数えられている人数/世帯人数\n",
        "df_train[\"Travel_fam_New\"] = df_train[\"NumberOfPersonVisiting\"] / df_train[\"family\"]\n",
        "\n",
        "# df_testへの適用\n",
        "df_test[\"Travel_fam_New\"] = df_test[\"NumberOfPersonVisiting\"] / df_test[\"family\"]"
      ],
      "metadata": {
        "id": "XMQL7cRuHRST"
      },
      "execution_count": null,
      "outputs": []
    },
    {
      "cell_type": "code",
      "source": [
        "df_train[\"Travel_fam_New\"].value_counts()"
      ],
      "metadata": {
        "colab": {
          "base_uri": "https://localhost:8080/",
          "height": 429
        },
        "id": "J9b1WGOxHidF",
        "outputId": "117a4023-f5be-4e6a-8088-df1c96227ae2"
      },
      "execution_count": null,
      "outputs": [
        {
          "output_type": "execute_result",
          "data": {
            "text/plain": [
              "Travel_fam_New\n",
              "1.0         1756\n",
              "0.666667     431\n",
              "2.0          406\n",
              "0.75         339\n",
              "1.5          289\n",
              "0.5          103\n",
              "3.0           86\n",
              "1.333333      45\n",
              "0.8           33\n",
              "4.0            1\n",
              "Name: count, dtype: int64"
            ],
            "text/html": [
              "<div>\n",
              "<style scoped>\n",
              "    .dataframe tbody tr th:only-of-type {\n",
              "        vertical-align: middle;\n",
              "    }\n",
              "\n",
              "    .dataframe tbody tr th {\n",
              "        vertical-align: top;\n",
              "    }\n",
              "\n",
              "    .dataframe thead th {\n",
              "        text-align: right;\n",
              "    }\n",
              "</style>\n",
              "<table border=\"1\" class=\"dataframe\">\n",
              "  <thead>\n",
              "    <tr style=\"text-align: right;\">\n",
              "      <th></th>\n",
              "      <th>count</th>\n",
              "    </tr>\n",
              "    <tr>\n",
              "      <th>Travel_fam_New</th>\n",
              "      <th></th>\n",
              "    </tr>\n",
              "  </thead>\n",
              "  <tbody>\n",
              "    <tr>\n",
              "      <th>1.0</th>\n",
              "      <td>1756</td>\n",
              "    </tr>\n",
              "    <tr>\n",
              "      <th>0.666667</th>\n",
              "      <td>431</td>\n",
              "    </tr>\n",
              "    <tr>\n",
              "      <th>2.0</th>\n",
              "      <td>406</td>\n",
              "    </tr>\n",
              "    <tr>\n",
              "      <th>0.75</th>\n",
              "      <td>339</td>\n",
              "    </tr>\n",
              "    <tr>\n",
              "      <th>1.5</th>\n",
              "      <td>289</td>\n",
              "    </tr>\n",
              "    <tr>\n",
              "      <th>0.5</th>\n",
              "      <td>103</td>\n",
              "    </tr>\n",
              "    <tr>\n",
              "      <th>3.0</th>\n",
              "      <td>86</td>\n",
              "    </tr>\n",
              "    <tr>\n",
              "      <th>1.333333</th>\n",
              "      <td>45</td>\n",
              "    </tr>\n",
              "    <tr>\n",
              "      <th>0.8</th>\n",
              "      <td>33</td>\n",
              "    </tr>\n",
              "    <tr>\n",
              "      <th>4.0</th>\n",
              "      <td>1</td>\n",
              "    </tr>\n",
              "  </tbody>\n",
              "</table>\n",
              "</div><br><label><b>dtype:</b> int64</label>"
            ]
          },
          "metadata": {},
          "execution_count": 760
        }
      ]
    },
    {
      "cell_type": "code",
      "source": [
        "df_train[\"Travel_fam_New\"] = df_train[\"Travel_fam_New\"].astype(int)\n",
        "df_test[\"Travel_fam_New\"] = df_test[\"Travel_fam_New\"].astype(int)"
      ],
      "metadata": {
        "id": "7qrMRgFsBS7X"
      },
      "execution_count": null,
      "outputs": []
    },
    {
      "cell_type": "code",
      "source": [
        "# 月収帯を定義 (5万円刻み) - df_trainの最大値を使用\n",
        "income_bins = np.arange(0, df_train['MonthlyIncome_0_med'].max() + 50000, 50000)\n",
        "\n",
        "# df_trainへの適用\n",
        "df_train['MonthlyIncome_binned'] = pd.cut(\n",
        "    df_train['MonthlyIncome_0_med'],\n",
        "    bins=income_bins,\n",
        "    labels=False,\n",
        "    include_lowest=True,\n",
        "    duplicates='drop'\n",
        ").astype(int)\n",
        "\n",
        "# df_testへの適用\n",
        "df_test['MonthlyIncome_binned'] = pd.cut(\n",
        "    df_test['MonthlyIncome_0_med'],\n",
        "    bins=income_bins,  # df_trainで計算したincome_binsを使用\n",
        "    labels=False,\n",
        "    include_lowest=True,\n",
        "    duplicates='drop'\n",
        ").astype(int)\n",
        "\n",
        "\n",
        "print(df_train[['MonthlyIncome_0_med', 'MonthlyIncome_binned']].head())\n",
        "print(df_test[['MonthlyIncome_0_med', 'MonthlyIncome_binned']].head())"
      ],
      "metadata": {
        "colab": {
          "base_uri": "https://localhost:8080/"
        },
        "id": "5zOCfilbLTOI",
        "outputId": "6487fff5-a3b8-49f2-d24a-f3b4de138a16"
      },
      "execution_count": null,
      "outputs": [
        {
          "output_type": "stream",
          "name": "stdout",
          "text": [
            "   MonthlyIncome_0_med  MonthlyIncome_binned\n",
            "0             254000.0                     5\n",
            "1             404000.0                     8\n",
            "2             278000.0                     5\n",
            "3             327000.0                     6\n",
            "4             258000.0                     5\n",
            "   MonthlyIncome_0_med  MonthlyIncome_binned\n",
            "0             497000.0                     9\n",
            "1             300000.0                     5\n",
            "2             260000.0                     5\n",
            "3             260000.0                     5\n",
            "4             269000.0                     5\n"
          ]
        }
      ]
    },
    {
      "cell_type": "code",
      "source": [
        "df_train['MonthlyIncome_binned'].isnull().sum()"
      ],
      "metadata": {
        "colab": {
          "base_uri": "https://localhost:8080/"
        },
        "id": "5TtYGyzcLwbX",
        "outputId": "0f5b2076-1af9-4fc6-f9ca-c2d27c93875d"
      },
      "execution_count": null,
      "outputs": [
        {
          "output_type": "execute_result",
          "data": {
            "text/plain": [
              "0"
            ]
          },
          "metadata": {},
          "execution_count": 763
        }
      ]
    },
    {
      "cell_type": "code",
      "source": [
        "# 中央値を計算し0 を含む欠損値を中央値で補完\n",
        "median_income_train = df_train[\"Age_numeric\"].median()\n",
        "\n",
        "\n",
        "df_train[\"Age_numeric_0_med\"] = df_train[\"Age_numeric\"].copy()\n",
        "df_train.loc[df_train[\"Age_numeric_0_med\"] == 0, \"Age_numeric_0_med\"] = np.nan\n",
        "df_train[\"Age_numeric_0_med\"] = df_train[\"Age_numeric_0_med\"].fillna(median_income_train)\n",
        "\n",
        "# df_test にも同様の処理を適用\n",
        "df_test[\"Age_numeric_0_med\"] = df_test[\"Age_numeric\"].copy()\n",
        "df_test.loc[df_test[\"Age_numeric_0_med\"] == 0, \"Age_numeric_0_med\"] = np.nan\n",
        "df_test[\"Age_numeric_0_med\"] = df_test[\"Age_numeric_0_med\"].fillna(median_income_train)\n",
        "\n",
        "# 確認\n",
        "print(df_train[\"Age_numeric_0_med\"].isnull().sum())"
      ],
      "metadata": {
        "colab": {
          "base_uri": "https://localhost:8080/"
        },
        "id": "3rt5V6XSZY3t",
        "outputId": "72e88217-8fe0-49fe-8745-e18e1041f8a8"
      },
      "execution_count": null,
      "outputs": [
        {
          "output_type": "stream",
          "name": "stdout",
          "text": [
            "0\n"
          ]
        }
      ]
    },
    {
      "cell_type": "code",
      "source": [
        "# 年齢を定義 (５歳刻み)\n",
        "age_bins = np.arange(0, df_train['Age_numeric_0_med'].max() + 5, 5)\n",
        "\n",
        "# df_trainへの適用\n",
        "df_train['Age_numeric_binned'] = pd.cut(\n",
        "    df_train['Age_numeric_0_med'],\n",
        "    bins=age_bins,\n",
        "    labels=False,\n",
        "    include_lowest=True,\n",
        "    duplicates='drop'\n",
        ").astype(int)\n",
        "\n",
        "# df_testへの適用\n",
        "df_test['Age_numeric_binned'] = pd.cut(\n",
        "    df_test['Age_numeric_0_med'],\n",
        "    bins=age_bins,\n",
        "    labels=False,\n",
        "    include_lowest=True,\n",
        "    duplicates='drop'\n",
        ").astype(int)\n",
        "\n",
        "\n",
        "print(df_train[['Age_numeric_0_med', 'Age_numeric_binned']].head())\n",
        "print(df_test[['Age_numeric_0_med', 'Age_numeric_binned']].head())"
      ],
      "metadata": {
        "colab": {
          "base_uri": "https://localhost:8080/"
        },
        "id": "LuJ9VcU2BErM",
        "outputId": "326a42ef-ddf2-4ef7-de08-ff226675fe8d"
      },
      "execution_count": null,
      "outputs": [
        {
          "output_type": "stream",
          "name": "stdout",
          "text": [
            "   Age_numeric_0_med  Age_numeric_binned\n",
            "0               48.0                   9\n",
            "1               30.0                   5\n",
            "2               25.0                   4\n",
            "3               21.0                   4\n",
            "4               41.0                   8\n",
            "   Age_numeric_0_med  Age_numeric_binned\n",
            "0               48.0                   9\n",
            "1               30.0                   5\n",
            "2               25.0                   4\n",
            "3               21.0                   4\n",
            "4               41.0                   8\n"
          ]
        }
      ]
    },
    {
      "cell_type": "code",
      "source": [
        "df_train['Age_numeric_binned'].describe()"
      ],
      "metadata": {
        "colab": {
          "base_uri": "https://localhost:8080/",
          "height": 335
        },
        "id": "Dla9yGB0CRLn",
        "outputId": "57c3beed-ba2b-4d98-f2d0-47a3bd8796da"
      },
      "execution_count": null,
      "outputs": [
        {
          "output_type": "execute_result",
          "data": {
            "text/plain": [
              "count    3489.000000\n",
              "mean        7.102608\n",
              "std         1.996360\n",
              "min         3.000000\n",
              "25%         6.000000\n",
              "50%         7.000000\n",
              "75%         9.000000\n",
              "max        11.000000\n",
              "Name: Age_numeric_binned, dtype: float64"
            ],
            "text/html": [
              "<div>\n",
              "<style scoped>\n",
              "    .dataframe tbody tr th:only-of-type {\n",
              "        vertical-align: middle;\n",
              "    }\n",
              "\n",
              "    .dataframe tbody tr th {\n",
              "        vertical-align: top;\n",
              "    }\n",
              "\n",
              "    .dataframe thead th {\n",
              "        text-align: right;\n",
              "    }\n",
              "</style>\n",
              "<table border=\"1\" class=\"dataframe\">\n",
              "  <thead>\n",
              "    <tr style=\"text-align: right;\">\n",
              "      <th></th>\n",
              "      <th>Age_numeric_binned</th>\n",
              "    </tr>\n",
              "  </thead>\n",
              "  <tbody>\n",
              "    <tr>\n",
              "      <th>count</th>\n",
              "      <td>3489.000000</td>\n",
              "    </tr>\n",
              "    <tr>\n",
              "      <th>mean</th>\n",
              "      <td>7.102608</td>\n",
              "    </tr>\n",
              "    <tr>\n",
              "      <th>std</th>\n",
              "      <td>1.996360</td>\n",
              "    </tr>\n",
              "    <tr>\n",
              "      <th>min</th>\n",
              "      <td>3.000000</td>\n",
              "    </tr>\n",
              "    <tr>\n",
              "      <th>25%</th>\n",
              "      <td>6.000000</td>\n",
              "    </tr>\n",
              "    <tr>\n",
              "      <th>50%</th>\n",
              "      <td>7.000000</td>\n",
              "    </tr>\n",
              "    <tr>\n",
              "      <th>75%</th>\n",
              "      <td>9.000000</td>\n",
              "    </tr>\n",
              "    <tr>\n",
              "      <th>max</th>\n",
              "      <td>11.000000</td>\n",
              "    </tr>\n",
              "  </tbody>\n",
              "</table>\n",
              "</div><br><label><b>dtype:</b> float64</label>"
            ]
          },
          "metadata": {},
          "execution_count": 1067
        }
      ]
    },
    {
      "cell_type": "code",
      "source": [
        "df_train[\"Pitch_minutes\"].isnull().sum()"
      ],
      "metadata": {
        "colab": {
          "base_uri": "https://localhost:8080/"
        },
        "id": "ORufThmHCZb2",
        "outputId": "d9cdb669-29fb-4fb9-a3a9-e3a541bd651f"
      },
      "execution_count": null,
      "outputs": [
        {
          "output_type": "execute_result",
          "data": {
            "text/plain": [
              "121"
            ]
          },
          "metadata": {},
          "execution_count": 767
        }
      ]
    },
    {
      "cell_type": "code",
      "source": [
        "# MonthlyIncome_0_med カラムを追加 (0 を含む欠損値を中央値で補完)\n",
        "df_train[\"Pitch_minutes_0_med\"] = df_train[\"Pitch_minutes\"].copy()  # 元の特徴量をコピー\n",
        "df_train.loc[df_train[\"Pitch_minutes_0_med\"] == 0, \"Pitch_minutes_0_med\"] = np.nan\n",
        "df_train[\"Pitch_minutes_0_med\"] = df_train[\"Pitch_minutes_0_med\"].fillna(median_income_train)\n",
        "\n",
        "# df_test にも同様の処理を適用\n",
        "df_test[\"Pitch_minutes_0_med\"] = df_test[\"Pitch_minutes\"].copy()\n",
        "df_test.loc[df_test[\"Pitch_minutes_0_med\"] == 0, \"Pitch_minutes_0_med\"] = np.nan\n",
        "df_test[\"Pitch_minutes_0_med\"] = df_test[\"Pitch_minutes_0_med\"].fillna(median_income_train)"
      ],
      "metadata": {
        "id": "8cGMy1JnbT2w"
      },
      "execution_count": null,
      "outputs": []
    },
    {
      "cell_type": "markdown",
      "source": [],
      "metadata": {
        "id": "8UTnbTSdok2g"
      }
    },
    {
      "cell_type": "code",
      "source": [
        "df_train[\"Pitch_minutes_0_med\"] = df_train[\"Pitch_minutes_0_med\"].astype(int)\n",
        "df_test[\"Pitch_minutes_0_med\"] = df_test[\"Pitch_minutes_0_med\"].astype(int)"
      ],
      "metadata": {
        "id": "FjKUpiJbDr-V"
      },
      "execution_count": null,
      "outputs": []
    },
    {
      "cell_type": "code",
      "source": [
        "df_train[\"Pitch_minutes_0_med\"].value_counts()"
      ],
      "metadata": {
        "colab": {
          "base_uri": "https://localhost:8080/",
          "height": 1000
        },
        "id": "tG3uLPZQExfq",
        "outputId": "6e4061f8-8fa1-4245-f3c0-3bf66d25db32"
      },
      "execution_count": null,
      "outputs": [
        {
          "output_type": "execute_result",
          "data": {
            "text/plain": [
              "Pitch_minutes_0_med\n",
              "8     338\n",
              "9     327\n",
              "15    284\n",
              "14    266\n",
              "16    259\n",
              "7     239\n",
              "10    231\n",
              "13    203\n",
              "11    160\n",
              "12    158\n",
              "17    136\n",
              "38    121\n",
              "6      80\n",
              "18     74\n",
              "32     53\n",
              "23     51\n",
              "22     45\n",
              "31     43\n",
              "24     40\n",
              "25     38\n",
              "20     36\n",
              "27     35\n",
              "33     34\n",
              "30     31\n",
              "21     31\n",
              "34     29\n",
              "28     29\n",
              "26     27\n",
              "35     25\n",
              "29     20\n",
              "19     19\n",
              "5      18\n",
              "36      7\n",
              "4       2\n",
              "Name: count, dtype: int64"
            ],
            "text/html": [
              "<div>\n",
              "<style scoped>\n",
              "    .dataframe tbody tr th:only-of-type {\n",
              "        vertical-align: middle;\n",
              "    }\n",
              "\n",
              "    .dataframe tbody tr th {\n",
              "        vertical-align: top;\n",
              "    }\n",
              "\n",
              "    .dataframe thead th {\n",
              "        text-align: right;\n",
              "    }\n",
              "</style>\n",
              "<table border=\"1\" class=\"dataframe\">\n",
              "  <thead>\n",
              "    <tr style=\"text-align: right;\">\n",
              "      <th></th>\n",
              "      <th>count</th>\n",
              "    </tr>\n",
              "    <tr>\n",
              "      <th>Pitch_minutes_0_med</th>\n",
              "      <th></th>\n",
              "    </tr>\n",
              "  </thead>\n",
              "  <tbody>\n",
              "    <tr>\n",
              "      <th>8</th>\n",
              "      <td>338</td>\n",
              "    </tr>\n",
              "    <tr>\n",
              "      <th>9</th>\n",
              "      <td>327</td>\n",
              "    </tr>\n",
              "    <tr>\n",
              "      <th>15</th>\n",
              "      <td>284</td>\n",
              "    </tr>\n",
              "    <tr>\n",
              "      <th>14</th>\n",
              "      <td>266</td>\n",
              "    </tr>\n",
              "    <tr>\n",
              "      <th>16</th>\n",
              "      <td>259</td>\n",
              "    </tr>\n",
              "    <tr>\n",
              "      <th>7</th>\n",
              "      <td>239</td>\n",
              "    </tr>\n",
              "    <tr>\n",
              "      <th>10</th>\n",
              "      <td>231</td>\n",
              "    </tr>\n",
              "    <tr>\n",
              "      <th>13</th>\n",
              "      <td>203</td>\n",
              "    </tr>\n",
              "    <tr>\n",
              "      <th>11</th>\n",
              "      <td>160</td>\n",
              "    </tr>\n",
              "    <tr>\n",
              "      <th>12</th>\n",
              "      <td>158</td>\n",
              "    </tr>\n",
              "    <tr>\n",
              "      <th>17</th>\n",
              "      <td>136</td>\n",
              "    </tr>\n",
              "    <tr>\n",
              "      <th>38</th>\n",
              "      <td>121</td>\n",
              "    </tr>\n",
              "    <tr>\n",
              "      <th>6</th>\n",
              "      <td>80</td>\n",
              "    </tr>\n",
              "    <tr>\n",
              "      <th>18</th>\n",
              "      <td>74</td>\n",
              "    </tr>\n",
              "    <tr>\n",
              "      <th>32</th>\n",
              "      <td>53</td>\n",
              "    </tr>\n",
              "    <tr>\n",
              "      <th>23</th>\n",
              "      <td>51</td>\n",
              "    </tr>\n",
              "    <tr>\n",
              "      <th>22</th>\n",
              "      <td>45</td>\n",
              "    </tr>\n",
              "    <tr>\n",
              "      <th>31</th>\n",
              "      <td>43</td>\n",
              "    </tr>\n",
              "    <tr>\n",
              "      <th>24</th>\n",
              "      <td>40</td>\n",
              "    </tr>\n",
              "    <tr>\n",
              "      <th>25</th>\n",
              "      <td>38</td>\n",
              "    </tr>\n",
              "    <tr>\n",
              "      <th>20</th>\n",
              "      <td>36</td>\n",
              "    </tr>\n",
              "    <tr>\n",
              "      <th>27</th>\n",
              "      <td>35</td>\n",
              "    </tr>\n",
              "    <tr>\n",
              "      <th>33</th>\n",
              "      <td>34</td>\n",
              "    </tr>\n",
              "    <tr>\n",
              "      <th>30</th>\n",
              "      <td>31</td>\n",
              "    </tr>\n",
              "    <tr>\n",
              "      <th>21</th>\n",
              "      <td>31</td>\n",
              "    </tr>\n",
              "    <tr>\n",
              "      <th>34</th>\n",
              "      <td>29</td>\n",
              "    </tr>\n",
              "    <tr>\n",
              "      <th>28</th>\n",
              "      <td>29</td>\n",
              "    </tr>\n",
              "    <tr>\n",
              "      <th>26</th>\n",
              "      <td>27</td>\n",
              "    </tr>\n",
              "    <tr>\n",
              "      <th>35</th>\n",
              "      <td>25</td>\n",
              "    </tr>\n",
              "    <tr>\n",
              "      <th>29</th>\n",
              "      <td>20</td>\n",
              "    </tr>\n",
              "    <tr>\n",
              "      <th>19</th>\n",
              "      <td>19</td>\n",
              "    </tr>\n",
              "    <tr>\n",
              "      <th>5</th>\n",
              "      <td>18</td>\n",
              "    </tr>\n",
              "    <tr>\n",
              "      <th>36</th>\n",
              "      <td>7</td>\n",
              "    </tr>\n",
              "    <tr>\n",
              "      <th>4</th>\n",
              "      <td>2</td>\n",
              "    </tr>\n",
              "  </tbody>\n",
              "</table>\n",
              "</div><br><label><b>dtype:</b> int64</label>"
            ]
          },
          "metadata": {},
          "execution_count": 770
        }
      ]
    },
    {
      "cell_type": "code",
      "source": [
        "#売り込みにかけた時間とフォロー回数をかけて、営業度合いを算出\n",
        "df_train[\"time_of_follow_new\"] = df_train[\"NumberOfFollowups_max\"] * df_train[\"Pitch_minutes_0_med\"].astype(int)\n",
        "df_test[\"time_of_follow_new\"] = df_test[\"NumberOfFollowups_max\"] * df_test[\"Pitch_minutes_0_med\"].astype(int)"
      ],
      "metadata": {
        "id": "L-FnT_WuIsPJ"
      },
      "execution_count": null,
      "outputs": []
    },
    {
      "cell_type": "code",
      "source": [
        "df_train[\"time_of_follow_new\"].hist()"
      ],
      "metadata": {
        "colab": {
          "base_uri": "https://localhost:8080/",
          "height": 447
        },
        "id": "3YT8OXArJPOf",
        "outputId": "0d9535f1-09a2-408e-da72-e5c7b55cdbb2"
      },
      "execution_count": null,
      "outputs": [
        {
          "output_type": "execute_result",
          "data": {
            "text/plain": [
              "<Axes: >"
            ]
          },
          "metadata": {},
          "execution_count": 772
        },
        {
          "output_type": "display_data",
          "data": {
            "text/plain": [
              "<Figure size 640x480 with 1 Axes>"
            ],
            "image/png": "[encoded data removed]"
          },
          "metadata": {}
        }
      ]
    },
    {
      "cell_type": "code",
      "source": [
        "# 年収の特徴量作成\n",
        "df_train['AnnualIncome'] = df_train['MonthlyIncome_0_med'] * 12\n",
        "df_train['AnnualIncome_rounded'] = (df_train['AnnualIncome'] / 10000).round().astype(int)\n",
        "\n",
        "# df_testへの適用\n",
        "df_test['AnnualIncome'] = df_test['MonthlyIncome_0_med'] * 12\n",
        "df_test['AnnualIncome_rounded'] = (df_test['AnnualIncome'] / 10000).round().astype(int)\n",
        "\n",
        "\n",
        "print(df_train[['MonthlyIncome_0_med', 'AnnualIncome', 'AnnualIncome_rounded']].head())\n",
        "print(df_test[['MonthlyIncome_0_med', 'AnnualIncome', 'AnnualIncome_rounded']].head())"
      ],
      "metadata": {
        "colab": {
          "base_uri": "https://localhost:8080/"
        },
        "id": "uX0SOu0_JWzW",
        "outputId": "afa7abce-5166-40a6-d55c-2e53b18d9bc8"
      },
      "execution_count": null,
      "outputs": [
        {
          "output_type": "stream",
          "name": "stdout",
          "text": [
            "   MonthlyIncome_0_med  AnnualIncome  AnnualIncome_rounded\n",
            "0             254000.0     3048000.0                   305\n",
            "1             404000.0     4848000.0                   485\n",
            "2             278000.0     3336000.0                   334\n",
            "3             327000.0     3924000.0                   392\n",
            "4             258000.0     3096000.0                   310\n",
            "   MonthlyIncome_0_med  AnnualIncome  AnnualIncome_rounded\n",
            "0             497000.0     5964000.0                   596\n",
            "1             300000.0     3600000.0                   360\n",
            "2             260000.0     3120000.0                   312\n",
            "3             260000.0     3120000.0                   312\n",
            "4             269000.0     3228000.0                   323\n"
          ]
        }
      ]
    },
    {
      "cell_type": "code",
      "source": [
        "# 散布図を作成:年収300万円台に正例が多い\n",
        "plt.figure(figsize=(10, 6))\n",
        "sns.scatterplot(x='AnnualIncome_rounded', y='Age_numeric_0_med', hue='ProdTaken', style='ProdTaken', data=df_train, palette=['red', 'blue'], s=60)\n",
        "plt.title('Relationship between Age_numeric_0_med, ProdTaken, and AnnualIncome_rounded')\n",
        "plt.xlabel('AnnualIncome_rounded')\n",
        "plt.ylabel('Age_numeric_0_med')\n",
        "plt.legend(title='ProdTaken')\n",
        "plt.show()"
      ],
      "metadata": {
        "colab": {
          "base_uri": "https://localhost:8080/",
          "height": 535
        },
        "id": "_We7P8yCLUEM",
        "outputId": "e9d363c0-2f54-44fc-dafe-fbb9371b2358"
      },
      "execution_count": null,
      "outputs": [
        {
          "output_type": "display_data",
          "data": {
            "text/plain": [
              "<Figure size 1000x600 with 1 Axes>"
            ],
            "image/png": "[encoded data removed]"
          },
          "metadata": {}
        }
      ]
    },
    {
      "cell_type": "code",
      "source": [
        "df_train.info()"
      ],
      "metadata": {
        "colab": {
          "base_uri": "https://localhost:8080/"
        },
        "id": "abbdA9SfLnUx",
        "outputId": "086264e8-411f-4373-83cb-93235d5e9d27"
      },
      "execution_count": null,
      "outputs": [
        {
          "output_type": "stream",
          "name": "stdout",
          "text": [
            "<class 'pandas.core.frame.DataFrame'>\n",
            "RangeIndex: 3489 entries, 0 to 3488\n",
            "Data columns (total 63 columns):\n",
            " #   Column                   Non-Null Count  Dtype   \n",
            "---  ------                   --------------  -----   \n",
            " 0   id                       3489 non-null   int64   \n",
            " 1   Age                      3489 non-null   category\n",
            " 2   TypeofContact            3483 non-null   category\n",
            " 3   CityTier                 3489 non-null   int64   \n",
            " 4   DurationOfPitch          3489 non-null   category\n",
            " 5   Occupation               3489 non-null   category\n",
            " 6   Gender                   3489 non-null   category\n",
            " 7   NumberOfPersonVisiting   3489 non-null   float64 \n",
            " 8   NumberOfFollowups        3456 non-null   float64 \n",
            " 9   ProductPitched           3489 non-null   category\n",
            " 10  PreferredPropertyStar    3489 non-null   float64 \n",
            " 11  NumberOfTrips            3489 non-null   category\n",
            " 12  Passport                 3489 non-null   int64   \n",
            " 13  PitchSatisfactionScore   3489 non-null   int64   \n",
            " 14  Designation              3489 non-null   category\n",
            " 15  MonthlyIncome            3489 non-null   category\n",
            " 16  customer_info            3489 non-null   category\n",
            " 17  ProdTaken                3489 non-null   float64 \n",
            " 18  Age_cleaned              3489 non-null   category\n",
            " 19  Age_numeric              3396 non-null   float64 \n",
            " 20  Pitch分                   3489 non-null   category\n",
            " 21  Pitch_minutes            3368 non-null   Int64   \n",
            " 22  Gender_enc               3489 non-null   int64   \n",
            " 23  ProductPitched_low       3489 non-null   category\n",
            " 24  NumberOfTrips_year       3489 non-null   int64   \n",
            " 25  Designation_low          3489 non-null   category\n",
            " 26  MonthlyIncome_ext        3433 non-null   float64 \n",
            " 27  child_info               3489 non-null   category\n",
            " 28  customer_info_removed    3489 non-null   category\n",
            " 29  material_status          3489 non-null   category\n",
            " 30  customer_info_rem2       3489 non-null   category\n",
            " 31  car_status               3489 non-null   category\n",
            " 32  child_info_int           3489 non-null   float64 \n",
            " 33  child_info_cat           3489 non-null   float64 \n",
            " 34  material_count           3489 non-null   int64   \n",
            " 35  car_status_count         3489 non-null   int64   \n",
            " 36  TypeofContact_oe         3489 non-null   float64 \n",
            " 37  TypeofContact_binary     3489 non-null   category\n",
            " 38  Occupation_oe            3489 non-null   float64 \n",
            " 39  Gender_0                 3489 non-null   int64   \n",
            " 40  Gender_1                 3489 non-null   int64   \n",
            " 41  NumberOfFollowups_max    3489 non-null   float64 \n",
            " 42  NumberOfFollowups_nan-1  3489 non-null   int64   \n",
            " 43  ProductPitched_Score     3489 non-null   int64   \n",
            " 44  NumberOfTrips_year-1     3489 non-null   int64   \n",
            " 45  Product_Score            3489 non-null   int64   \n",
            " 46  Product_Property_Score   3489 non-null   float64 \n",
            " 47  Designation_le           3489 non-null   int64   \n",
            " 48  Designation_rank         3489 non-null   category\n",
            " 49  MonthlyIncome_ext-1      3489 non-null   int64   \n",
            " 50  MonthlyIncome_0_med      3489 non-null   float64 \n",
            " 51  material_count2          3489 non-null   category\n",
            " 52  material_score           3489 non-null   int64   \n",
            " 53  family                   3489 non-null   object  \n",
            " 54  family_travel_share      3489 non-null   float64 \n",
            " 55  Travel_fam_New           3489 non-null   int64   \n",
            " 56  MonthlyIncome_binned     3489 non-null   int64   \n",
            " 57  Age_numeric_0_med        3489 non-null   float64 \n",
            " 58  Age_numeric_binned       3489 non-null   int64   \n",
            " 59  Pitch_minutes_0_med      3489 non-null   int64   \n",
            " 60  time_of_follow_new       3489 non-null   float64 \n",
            " 61  AnnualIncome             3489 non-null   float64 \n",
            " 62  AnnualIncome_rounded     3489 non-null   int64   \n",
            "dtypes: Int64(1), category(22), float64(17), int64(22), object(1)\n",
            "memory usage: 1.5+ MB\n"
          ]
        }
      ]
    },
    {
      "cell_type": "code",
      "source": [
        "df_train[\"family\"].isna().sum()"
      ],
      "metadata": {
        "colab": {
          "base_uri": "https://localhost:8080/"
        },
        "id": "i3ojSbkoJzKq",
        "outputId": "4db081d6-4b72-414d-f13a-cd48de3bf237"
      },
      "execution_count": null,
      "outputs": [
        {
          "output_type": "execute_result",
          "data": {
            "text/plain": [
              "0"
            ]
          },
          "metadata": {},
          "execution_count": 776
        }
      ]
    },
    {
      "cell_type": "code",
      "source": [
        "# df_trainへの適用\n",
        "df_train[\"MonthlyInc_fam\"] = (df_train[\"MonthlyIncome_0_med\"] / df_train[\"family\"]).astype('int64')\n",
        "df_train[\"AnnualInc_fam_round\"] = (df_train[\"AnnualIncome_rounded\"] / df_train[\"family\"]).astype('int64')\n",
        "\n",
        "# df_testへの適用\n",
        "df_test[\"MonthlyInc_fam\"] = (df_test[\"MonthlyIncome_0_med\"] / df_test[\"family\"]).astype('int64')\n",
        "df_test[\"AnnualInc_fam_round\"] = (df_test[\"AnnualIncome_rounded\"] / df_test[\"family\"]).astype('int64')\n",
        "\n",
        "#\n",
        "display(df_train[[\"MonthlyInc_fam\", \"AnnualInc_fam_round\", \"family\"]].sample(n=10))"
      ],
      "metadata": {
        "colab": {
          "base_uri": "https://localhost:8080/",
          "height": 363
        },
        "id": "gtj3I2nlJ55V",
        "outputId": "06ba7cb5-99dd-4d41-cfe1-3ecb3264af34"
      },
      "execution_count": null,
      "outputs": [
        {
          "output_type": "display_data",
          "data": {
            "text/plain": [
              "      MonthlyInc_fam  AnnualInc_fam_round family\n",
              "2891          113666                  136      3\n",
              "1150          325000                  390      1\n",
              "2380          185333                  222      3\n",
              "2008          130000                  156      2\n",
              "1874          104000                  124      3\n",
              "1903          175500                  210      2\n",
              "2691          142000                  170      3\n",
              "1737          103666                  124      3\n",
              "91            256000                  307      1\n",
              "3196          130666                  156      3"
            ],
            "text/html": [
              "\n",
              "  <div id=\"df-aab917e0-4c11-4a27-a468-d47a534f6407\" class=\"colab-df-container\">\n",
              "    <div>\n",
              "<style scoped>\n",
              "    .dataframe tbody tr th:only-of-type {\n",
              "        vertical-align: middle;\n",
              "    }\n",
              "\n",
              "    .dataframe tbody tr th {\n",
              "        vertical-align: top;\n",
              "    }\n",
              "\n",
              "    .dataframe thead th {\n",
              "        text-align: right;\n",
              "    }\n",
              "</style>\n",
              "<table border=\"1\" class=\"dataframe\">\n",
              "  <thead>\n",
              "    <tr style=\"text-align: right;\">\n",
              "      <th></th>\n",
              "      <th>MonthlyInc_fam</th>\n",
              "      <th>AnnualInc_fam_round</th>\n",
              "      <th>family</th>\n",
              "    </tr>\n",
              "  </thead>\n",
              "  <tbody>\n",
              "    <tr>\n",
              "      <th>2891</th>\n",
              "      <td>113666</td>\n",
              "      <td>136</td>\n",
              "      <td>3</td>\n",
              "    </tr>\n",
              "    <tr>\n",
              "      <th>1150</th>\n",
              "      <td>325000</td>\n",
              "      <td>390</td>\n",
              "      <td>1</td>\n",
              "    </tr>\n",
              "    <tr>\n",
              "      <th>2380</th>\n",
              "      <td>185333</td>\n",
              "      <td>222</td>\n",
              "      <td>3</td>\n",
              "    </tr>\n",
              "    <tr>\n",
              "      <th>2008</th>\n",
              "      <td>130000</td>\n",
              "      <td>156</td>\n",
              "      <td>2</td>\n",
              "    </tr>\n",
              "    <tr>\n",
              "      <th>1874</th>\n",
              "      <td>104000</td>\n",
              "      <td>124</td>\n",
              "      <td>3</td>\n",
              "    </tr>\n",
              "    <tr>\n",
              "      <th>1903</th>\n",
              "      <td>175500</td>\n",
              "      <td>210</td>\n",
              "      <td>2</td>\n",
              "    </tr>\n",
              "    <tr>\n",
              "      <th>2691</th>\n",
              "      <td>142000</td>\n",
              "      <td>170</td>\n",
              "      <td>3</td>\n",
              "    </tr>\n",
              "    <tr>\n",
              "      <th>1737</th>\n",
              "      <td>103666</td>\n",
              "      <td>124</td>\n",
              "      <td>3</td>\n",
              "    </tr>\n",
              "    <tr>\n",
              "      <th>91</th>\n",
              "      <td>256000</td>\n",
              "      <td>307</td>\n",
              "      <td>1</td>\n",
              "    </tr>\n",
              "    <tr>\n",
              "      <th>3196</th>\n",
              "      <td>130666</td>\n",
              "      <td>156</td>\n",
              "      <td>3</td>\n",
              "    </tr>\n",
              "  </tbody>\n",
              "</table>\n",
              "</div>\n",
              "    <div class=\"colab-df-buttons\">\n",
              "\n",
              "  <div class=\"colab-df-container\">\n",
              "    <button class=\"colab-df-convert\" onclick=\"convertToInteractive('df-aab917e0-4c11-4a27-a468-d47a534f6407')\"\n",
              "            title=\"Convert this dataframe to an interactive table.\"\n",
              "            style=\"display:none;\">\n",
              "\n",
              "  <svg xmlns=\"http://www.w3.org/2000/svg\" height=\"24px\" viewBox=\"0 -960 960 960\">\n",
              "    <path d=\"M120-120v-720h720v720H120Zm60-500h600v-160H180v160Zm220 220h160v-160H400v160Zm0 220h160v-160H400v160ZM180-400h160v-160H180v160Zm440 0h160v-160H620v160ZM180-180h160v-160H180v160Zm440 0h160v-160H620v160Z\"/>\n",
              "  </svg>\n",
              "    </button>\n",
              "\n",
              "  <style>\n",
              "    .colab-df-container {\n",
              "      display:flex;\n",
              "      gap: 12px;\n",
              "    }\n",
              "\n",
              "    .colab-df-convert {\n",
              "      background-color: #E8F0FE;\n",
              "      border: none;\n",
              "      border-radius: 50%;\n",
              "      cursor: pointer;\n",
              "      display: none;\n",
              "      fill: #1967D2;\n",
              "      height: 32px;\n",
              "      padding: 0 0 0 0;\n",
              "      width: 32px;\n",
              "    }\n",
              "\n",
              "    .colab-df-convert:hover {\n",
              "      background-color: #E2EBFA;\n",
              "      box-shadow: 0px 1px 2px rgba(60, 64, 67, 0.3), 0px 1px 3px 1px rgba(60, 64, 67, 0.15);\n",
              "      fill: #174EA6;\n",
              "    }\n",
              "\n",
              "    .colab-df-buttons div {\n",
              "      margin-bottom: 4px;\n",
              "    }\n",
              "\n",
              "    [theme=dark] .colab-df-convert {\n",
              "      background-color: #3B4455;\n",
              "      fill: #D2E3FC;\n",
              "    }\n",
              "\n",
              "    [theme=dark] .colab-df-convert:hover {\n",
              "      background-color: #434B5C;\n",
              "      box-shadow: 0px 1px 3px 1px rgba(0, 0, 0, 0.15);\n",
              "      filter: drop-shadow(0px 1px 2px rgba(0, 0, 0, 0.3));\n",
              "      fill: #FFFFFF;\n",
              "    }\n",
              "  </style>\n",
              "\n",
              "    <script>\n",
              "      const buttonEl =\n",
              "        document.querySelector('#df-aab917e0-4c11-4a27-a468-d47a534f6407 button.colab-df-convert');\n",
              "      buttonEl.style.display =\n",
              "        google.colab.kernel.accessAllowed ? 'block' : 'none';\n",
              "\n",
              "      async function convertToInteractive(key) {\n",
              "        const element = document.querySelector('#df-aab917e0-4c11-4a27-a468-d47a534f6407');\n",
              "        const dataTable =\n",
              "          await google.colab.kernel.invokeFunction('convertToInteractive',\n",
              "                                                    [key], {});\n",
              "        if (!dataTable) return;\n",
              "\n",
              "        const docLinkHtml = 'Like what you see? Visit the ' +\n",
              "          '<a target=\"_blank\" href=https://colab.research.google.com/notebooks/data_table.ipynb>data table notebook</a>'\n",
              "          + ' to learn more about interactive tables.';\n",
              "        element.innerHTML = '';\n",
              "        dataTable['output_type'] = 'display_data';\n",
              "        await google.colab.output.renderOutput(dataTable, element);\n",
              "        const docLink = document.createElement('div');\n",
              "        docLink.innerHTML = docLinkHtml;\n",
              "        element.appendChild(docLink);\n",
              "      }\n",
              "    </script>\n",
              "  </div>\n",
              "\n",
              "\n",
              "<div id=\"df-b4163940-9b64-4d9a-b379-9a558a8b2ae8\">\n",
              "  <button class=\"colab-df-quickchart\" onclick=\"quickchart('df-b4163940-9b64-4d9a-b379-9a558a8b2ae8')\"\n",
              "            title=\"Suggest charts\"\n",
              "            style=\"display:none;\">\n",
              "\n",
              "<svg xmlns=\"http://www.w3.org/2000/svg\" height=\"24px\"viewBox=\"0 0 24 24\"\n",
              "     width=\"24px\">\n",
              "    <g>\n",
              "        <path d=\"M19 3H5c-1.1 0-2 .9-2 2v14c0 1.1.9 2 2 2h14c1.1 0 2-.9 2-2V5c0-1.1-.9-2-2-2zM9 17H7v-7h2v7zm4 0h-2V7h2v10zm4 0h-2v-4h2v4z\"/>\n",
              "    </g>\n",
              "</svg>\n",
              "  </button>\n",
              "\n",
              "<style>\n",
              "  .colab-df-quickchart {\n",
              "      --bg-color: #E8F0FE;\n",
              "      --fill-color: #1967D2;\n",
              "      --hover-bg-color: #E2EBFA;\n",
              "      --hover-fill-color: #174EA6;\n",
              "      --disabled-fill-color: #AAA;\n",
              "      --disabled-bg-color: #DDD;\n",
              "  }\n",
              "\n",
              "  [theme=dark] .colab-df-quickchart {\n",
              "      --bg-color: #3B4455;\n",
              "      --fill-color: #D2E3FC;\n",
              "      --hover-bg-color: #434B5C;\n",
              "      --hover-fill-color: #FFFFFF;\n",
              "      --disabled-bg-color: #3B4455;\n",
              "      --disabled-fill-color: #666;\n",
              "  }\n",
              "\n",
              "  .colab-df-quickchart {\n",
              "    background-color: var(--bg-color);\n",
              "    border: none;\n",
              "    border-radius: 50%;\n",
              "    cursor: pointer;\n",
              "    display: none;\n",
              "    fill: var(--fill-color);\n",
              "    height: 32px;\n",
              "    padding: 0;\n",
              "    width: 32px;\n",
              "  }\n",
              "\n",
              "  .colab-df-quickchart:hover {\n",
              "    background-color: var(--hover-bg-color);\n",
              "    box-shadow: 0 1px 2px rgba(60, 64, 67, 0.3), 0 1px 3px 1px rgba(60, 64, 67, 0.15);\n",
              "    fill: var(--button-hover-fill-color);\n",
              "  }\n",
              "\n",
              "  .colab-df-quickchart-complete:disabled,\n",
              "  .colab-df-quickchart-complete:disabled:hover {\n",
              "    background-color: var(--disabled-bg-color);\n",
              "    fill: var(--disabled-fill-color);\n",
              "    box-shadow: none;\n",
              "  }\n",
              "\n",
              "  .colab-df-spinner {\n",
              "    border: 2px solid var(--fill-color);\n",
              "    border-color: transparent;\n",
              "    border-bottom-color: var(--fill-color);\n",
              "    animation:\n",
              "      spin 1s steps(1) infinite;\n",
              "  }\n",
              "\n",
              "  @keyframes spin {\n",
              "    0% {\n",
              "      border-color: transparent;\n",
              "      border-bottom-color: var(--fill-color);\n",
              "      border-left-color: var(--fill-color);\n",
              "    }\n",
              "    20% {\n",
              "      border-color: transparent;\n",
              "      border-left-color: var(--fill-color);\n",
              "      border-top-color: var(--fill-color);\n",
              "    }\n",
              "    30% {\n",
              "      border-color: transparent;\n",
              "      border-left-color: var(--fill-color);\n",
              "      border-top-color: var(--fill-color);\n",
              "      border-right-color: var(--fill-color);\n",
              "    }\n",
              "    40% {\n",
              "      border-color: transparent;\n",
              "      border-right-color: var(--fill-color);\n",
              "      border-top-color: var(--fill-color);\n",
              "    }\n",
              "    60% {\n",
              "      border-color: transparent;\n",
              "      border-right-color: var(--fill-color);\n",
              "    }\n",
              "    80% {\n",
              "      border-color: transparent;\n",
              "      border-right-color: var(--fill-color);\n",
              "      border-bottom-color: var(--fill-color);\n",
              "    }\n",
              "    90% {\n",
              "      border-color: transparent;\n",
              "      border-bottom-color: var(--fill-color);\n",
              "    }\n",
              "  }\n",
              "</style>\n",
              "\n",
              "  <script>\n",
              "    async function quickchart(key) {\n",
              "      const quickchartButtonEl =\n",
              "        document.querySelector('#' + key + ' button');\n",
              "      quickchartButtonEl.disabled = true;  // To prevent multiple clicks.\n",
              "      quickchartButtonEl.classList.add('colab-df-spinner');\n",
              "      try {\n",
              "        const charts = await google.colab.kernel.invokeFunction(\n",
              "            'suggestCharts', [key], {});\n",
              "      } catch (error) {\n",
              "        console.error('Error during call to suggestCharts:', error);\n",
              "      }\n",
              "      quickchartButtonEl.classList.remove('colab-df-spinner');\n",
              "      quickchartButtonEl.classList.add('colab-df-quickchart-complete');\n",
              "    }\n",
              "    (() => {\n",
              "      let quickchartButtonEl =\n",
              "        document.querySelector('#df-b4163940-9b64-4d9a-b379-9a558a8b2ae8 button');\n",
              "      quickchartButtonEl.style.display =\n",
              "        google.colab.kernel.accessAllowed ? 'block' : 'none';\n",
              "    })();\n",
              "  </script>\n",
              "</div>\n",
              "\n",
              "    </div>\n",
              "  </div>\n"
            ],
            "application/vnd.google.colaboratory.intrinsic+json": {
              "type": "dataframe",
              "repr_error": "0"
            }
          },
          "metadata": {}
        }
      ]
    },
    {
      "cell_type": "code",
      "source": [
        "# df_trainへの適用\n",
        "df_train[\"CityTier_reverse\"] = df_train[\"CityTier\"].replace({1: 3, 3: 1})\n",
        "\n",
        "# df_testへの適用\n",
        "df_test[\"CityTier_reverse\"] = df_test[\"CityTier\"].replace({1: 3, 3: 1})\n",
        "\n",
        "#\n",
        "print(df_train[[\"CityTier\", \"CityTier_reverse\"]].head())"
      ],
      "metadata": {
        "colab": {
          "base_uri": "https://localhost:8080/"
        },
        "id": "OvgIAo98KJAO",
        "outputId": "ed81756c-3507-4bef-f021-1be94a6fe137"
      },
      "execution_count": null,
      "outputs": [
        {
          "output_type": "stream",
          "name": "stdout",
          "text": [
            "   CityTier  CityTier_reverse\n",
            "0         2                 2\n",
            "1         1                 3\n",
            "2         1                 3\n",
            "3         2                 2\n",
            "4         3                 1\n"
          ]
        }
      ]
    },
    {
      "cell_type": "code",
      "source": [
        "# df_trainへの適用\n",
        "df_train[\"Age_Trips\"] = df_train[\"Age_numeric_0_med\"] * df_train[\"NumberOfTrips_year\"]\n",
        "\n",
        "# df_testへの適用\n",
        "df_test[\"Age_Trips\"] = df_test[\"Age_numeric_0_med\"] * df_test[\"NumberOfTrips_year\"]\n",
        "\n",
        "\n",
        "print(df_train[\"Age_Trips\"].value_counts())"
      ],
      "metadata": {
        "colab": {
          "base_uri": "https://localhost:8080/"
        },
        "id": "rLCD6Z8JKYbw",
        "outputId": "d27a872b-9cc2-4277-9d7c-c3d34add0733"
      },
      "execution_count": null,
      "outputs": [
        {
          "output_type": "stream",
          "name": "stdout",
          "text": [
            "Age_Trips\n",
            "60.0     100\n",
            "90.0      90\n",
            "80.0      74\n",
            "150.0     70\n",
            "114.0     66\n",
            "        ... \n",
            "258.0      1\n",
            "368.0      1\n",
            "424.0      1\n",
            "392.0      1\n",
            "456.0      1\n",
            "Name: count, Length: 209, dtype: int64\n"
          ]
        }
      ]
    },
    {
      "cell_type": "code",
      "source": [
        "#年間旅行人数/年齢 ＝年齢に対する旅行頻度\n",
        "df_train[\"travel_frequency\"] = np.where(df_train[\"NumberOfTrips_year\"] != 0,\n",
        "                                         df_train[\"Age_numeric_0_med\"] / df_train[\"NumberOfTrips_year\"],\n",
        "                                         df_train[\"Age_numeric_0_med\"])\n",
        "\n",
        "# df_testへの適用\n",
        "df_test[\"travel_frequency\"] = np.where(df_test[\"NumberOfTrips_year\"] != 0,\n",
        "                                         df_test[\"Age_numeric_0_med\"] / df_test[\"NumberOfTrips_year\"],\n",
        "                                         df_test[\"Age_numeric_0_med\"])\n",
        "\n",
        "\n",
        "print(df_train[\"travel_frequency\"].value_counts())"
      ],
      "metadata": {
        "colab": {
          "base_uri": "https://localhost:8080/"
        },
        "id": "2X4XDb2fKlUs",
        "outputId": "d7302377-dd15-4eb6-afc6-722598d51a1f"
      },
      "execution_count": null,
      "outputs": [
        {
          "output_type": "stream",
          "name": "stdout",
          "text": [
            "travel_frequency\n",
            "10.000000    117\n",
            "15.000000     97\n",
            "20.000000     83\n",
            "18.000000     69\n",
            "19.000000     68\n",
            "            ... \n",
            "2.500000       1\n",
            "3.500000       1\n",
            "9.833333       1\n",
            "7.166667       1\n",
            "7.125000       1\n",
            "Name: count, Length: 222, dtype: int64\n"
          ]
        }
      ]
    },
    {
      "cell_type": "code",
      "source": [
        "#掛け合わせる＝各クラスごとの世帯年収＝余裕度\n",
        "df_train[\"Designation_Annual\"] = df_train[\"Designation_rank\"].astype(int) * df_train[\"AnnualInc_fam_round\"]\n",
        "\n",
        "# df_testへの適用\n",
        "df_test[\"Designation_Annual\"] = df_test[\"Designation_rank\"].astype(int) * df_test[\"AnnualInc_fam_round\"]\n",
        "\n",
        "#\n",
        "print(df_train[[\"Designation_rank\", \"AnnualInc_fam_round\", \"Designation_Annual\"]].head())"
      ],
      "metadata": {
        "colab": {
          "base_uri": "https://localhost:8080/"
        },
        "id": "ZKtTrJE1K4IQ",
        "outputId": "9c9a1411-46d6-428b-a1f2-a28c7ff3a2bc"
      },
      "execution_count": null,
      "outputs": [
        {
          "output_type": "stream",
          "name": "stdout",
          "text": [
            "  Designation_rank  AnnualInc_fam_round  Designation_Annual\n",
            "0                3                  305                 915\n",
            "1                2                  485                 970\n",
            "2                3                  167                 501\n",
            "3                2                  392                 784\n",
            "4                3                  310                 930\n"
          ]
        }
      ]
    },
    {
      "cell_type": "code",
      "source": [
        "#世帯月収でも一応作成\n",
        "df_train[\"Designation_Month\"] = df_train[\"Designation_rank\"].astype(int) * df_train[\"MonthlyInc_fam\"]\n",
        "\n",
        "# df_testへの適用\n",
        "df_test[\"Designation_Month\"] = df_test[\"Designation_rank\"].astype(int) * df_test[\"MonthlyInc_fam\"]\n",
        "\n",
        "#\n",
        "print(df_train[[\"Designation_rank\", \"MonthlyInc_fam\", \"Designation_Month\"]].head())"
      ],
      "metadata": {
        "colab": {
          "base_uri": "https://localhost:8080/"
        },
        "id": "PuoCrZwkLIBU",
        "outputId": "bd8295ef-e885-4f09-bf25-8f430d15fd24"
      },
      "execution_count": null,
      "outputs": [
        {
          "output_type": "stream",
          "name": "stdout",
          "text": [
            "  Designation_rank  MonthlyInc_fam  Designation_Month\n",
            "0                3          254000             762000\n",
            "1                2          404000             808000\n",
            "2                3          139000             417000\n",
            "3                2          327000             654000\n",
            "4                3          258000             774000\n"
          ]
        }
      ]
    },
    {
      "cell_type": "code",
      "source": [
        "# 旅行間隔を計算する関数\n",
        "def calc_travel_interval(trips_per_year):\n",
        "  if pd.isna(trips_per_year):\n",
        "    return np.nan\n",
        "  elif trips_per_year == 0:\n",
        "    return 0  # 旅行回数が0回の場合は旅行間隔を0とする\n",
        "  else:\n",
        "    return 12 / trips_per_year\n",
        "\n",
        "# df_trainへの適用\n",
        "df_train['Travel_Interval'] = df_train['NumberOfTrips_year'].apply(calc_travel_interval).astype(int)\n",
        "\n",
        "# df_testへの適用\n",
        "df_test['Travel_Interval'] = df_test['NumberOfTrips_year'].apply(calc_travel_interval).astype(int)\n",
        "\n",
        "print(df_train['Travel_Interval'].value_counts())"
      ],
      "metadata": {
        "colab": {
          "base_uri": "https://localhost:8080/"
        },
        "id": "rwsIHBHyLhdZ",
        "outputId": "aee656e3-2a48-4bdc-d7a8-a44ffa7555c9"
      },
      "execution_count": null,
      "outputs": [
        {
          "output_type": "stream",
          "name": "stdout",
          "text": [
            "Travel_Interval\n",
            "6     1164\n",
            "4      820\n",
            "2      645\n",
            "12     409\n",
            "1      266\n",
            "3      163\n",
            "0       22\n",
            "Name: count, dtype: int64\n"
          ]
        }
      ]
    },
    {
      "cell_type": "code",
      "source": [
        "#年齢＊世帯収入\n",
        "df_train[\"Age_Annual\"] = df_train[\"AnnualIncome_rounded\"] * df_train[\"Age_numeric_0_med\"].astype(int)\n",
        "\n",
        "# df_testへの適用\n",
        "df_test[\"Age_Annual\"] = df_test[\"AnnualIncome_rounded\"] * df_test[\"Age_numeric_0_med\"].astype(int)\n",
        "\n",
        "print(df_train[\"Age_Annual\"].value_counts())"
      ],
      "metadata": {
        "colab": {
          "base_uri": "https://localhost:8080/"
        },
        "id": "eCatzusfML0s",
        "outputId": "fa63ca54-5efb-4b49-9c59-15f8cf348ab0"
      },
      "execution_count": null,
      "outputs": [
        {
          "output_type": "stream",
          "name": "stdout",
          "text": [
            "Age_Annual\n",
            "10800    26\n",
            "14400    17\n",
            "18240    15\n",
            "11520    14\n",
            "16200    12\n",
            "         ..\n",
            "16974     1\n",
            "9044      1\n",
            "12616     1\n",
            "17682     1\n",
            "14696     1\n",
            "Name: count, Length: 2184, dtype: int64\n"
          ]
        }
      ]
    },
    {
      "cell_type": "code",
      "source": [
        "df_test['MonthlyIncome_0_med'].describe()"
      ],
      "metadata": {
        "colab": {
          "base_uri": "https://localhost:8080/",
          "height": 335
        },
        "id": "GOJa7W31NvAF",
        "outputId": "049e9c50-51ca-44ca-961f-bbc78b3e9823"
      },
      "execution_count": null,
      "outputs": [
        {
          "output_type": "execute_result",
          "data": {
            "text/plain": [
              "count      3489.000000\n",
              "mean     356400.687876\n",
              "std       76592.354156\n",
              "min      200000.000000\n",
              "25%      300000.000000\n",
              "50%      342000.000000\n",
              "75%      400000.000000\n",
              "max      600000.000000\n",
              "Name: MonthlyIncome_0_med, dtype: float64"
            ],
            "text/html": [
              "<div>\n",
              "<style scoped>\n",
              "    .dataframe tbody tr th:only-of-type {\n",
              "        vertical-align: middle;\n",
              "    }\n",
              "\n",
              "    .dataframe tbody tr th {\n",
              "        vertical-align: top;\n",
              "    }\n",
              "\n",
              "    .dataframe thead th {\n",
              "        text-align: right;\n",
              "    }\n",
              "</style>\n",
              "<table border=\"1\" class=\"dataframe\">\n",
              "  <thead>\n",
              "    <tr style=\"text-align: right;\">\n",
              "      <th></th>\n",
              "      <th>MonthlyIncome_0_med</th>\n",
              "    </tr>\n",
              "  </thead>\n",
              "  <tbody>\n",
              "    <tr>\n",
              "      <th>count</th>\n",
              "      <td>3489.000000</td>\n",
              "    </tr>\n",
              "    <tr>\n",
              "      <th>mean</th>\n",
              "      <td>356400.687876</td>\n",
              "    </tr>\n",
              "    <tr>\n",
              "      <th>std</th>\n",
              "      <td>76592.354156</td>\n",
              "    </tr>\n",
              "    <tr>\n",
              "      <th>min</th>\n",
              "      <td>200000.000000</td>\n",
              "    </tr>\n",
              "    <tr>\n",
              "      <th>25%</th>\n",
              "      <td>300000.000000</td>\n",
              "    </tr>\n",
              "    <tr>\n",
              "      <th>50%</th>\n",
              "      <td>342000.000000</td>\n",
              "    </tr>\n",
              "    <tr>\n",
              "      <th>75%</th>\n",
              "      <td>400000.000000</td>\n",
              "    </tr>\n",
              "    <tr>\n",
              "      <th>max</th>\n",
              "      <td>600000.000000</td>\n",
              "    </tr>\n",
              "  </tbody>\n",
              "</table>\n",
              "</div><br><label><b>dtype:</b> float64</label>"
            ]
          },
          "metadata": {},
          "execution_count": 785
        }
      ]
    },
    {
      "cell_type": "code",
      "source": [
        "# 年齢層を定義\n",
        "age_bins = [0, 29, 39, 49, 59, float('inf')]\n",
        "age_labels = ['20s', '30s', '40s', '50s', '60s_over']\n",
        "income_bins = np.arange(0, df_train['MonthlyIncome_0_med'].max() + 50000, 50000)\n",
        "\n",
        "\n",
        "# 年齢層別・月収帯別偏差値を算出する関数を定義\n",
        "def calculate_age_income_zscore(row, stats):\n",
        "    age_income_group = row['age_income_group']\n",
        "    monthly_income = row['MonthlyIncome_0_med']\n",
        "\n",
        "    if age_income_group in stats.index:\n",
        "        mean = stats.loc[age_income_group, 'mean']\n",
        "        std = stats.loc[age_income_group, 'std']\n",
        "\n",
        "        if std == 0:\n",
        "            return 0  # 標準偏差が0の場合は偏差値を0とする\n",
        "        else:\n",
        "            return (monthly_income - mean) / std  # 偏差値を計算\n",
        "    else:\n",
        "        median_zscore = stats['zscore'].median()  # stats DataFrame から zscore の中央値を取得\n",
        "        return median_zscore\n",
        "\n",
        "# 'age_income_group' カラムを作成\n",
        "df_train['age_group'] = pd.cut(df_train['Age_numeric_0_med'], bins=age_bins, labels=age_labels, include_lowest=True, duplicates='drop')\n",
        "df_train['income_group'] = pd.cut(df_train['MonthlyIncome_0_med'], bins=income_bins, labels=False, include_lowest=True, duplicates='drop')\n",
        "df_train['age_income_group'] = df_train['age_group'].astype(str) + '_' + df_train['income_group'].astype(str)\n",
        "\n",
        "df_test['age_group'] = pd.cut(df_test['Age_numeric_0_med'], bins=age_bins, labels=age_labels, include_lowest=True, duplicates='drop')\n",
        "df_test['income_group'] = pd.cut(df_test['MonthlyIncome_0_med'], bins=income_bins, labels=False, include_lowest=True, duplicates='drop')\n",
        "df_test['age_income_group'] = df_test['age_group'].astype(str) + '_' + df_test['income_group'].astype(str)\n",
        "\n",
        "\n",
        "# stats DataFrame の作成\n",
        "stats = df_train.groupby('age_income_group')['MonthlyIncome_0_med'].agg(['mean', 'std'])\n",
        "stats['zscore'] = stats.apply(lambda row: 0 if row['std'] == 0 else (df_train['MonthlyIncome_0_med'].median() - row['mean']) / row['std'], axis=1)  # zscore カラムを初期化、中央値で埋める\n",
        "\n",
        "# stats DataFrame の作成\n",
        "stats = df_train.groupby('age_income_group')['MonthlyIncome_0_med'].agg(['mean', 'std'])\n",
        "stats['zscore'] = stats.apply(lambda row: 0 if row['std'] == 0 else (df_train['MonthlyIncome_0_med'].median() - row['mean']) / row['std'], axis=1) # zscore カラムを初期化、中央値で埋める\n",
        "\n",
        "\n",
        "# 年齢層別・月収帯別偏差値を算出し、新しいカラムに追加\n",
        "df_train['income_zscore_by_age'] = df_train.apply(calculate_age_income_zscore, args=(stats,), axis=1)\n",
        "\n",
        "# df_test にも偏差値を計算し、'income_zscore_by_age' カラム追加\n",
        "df_test['income_zscore_by_age'] = df_test.apply(calculate_age_income_zscore, args=(stats,), axis=1)\n",
        "\n",
        "#\n",
        "print(df_train[['age_income_group', 'MonthlyIncome_0_med', 'income_zscore_by_age']].head())"
      ],
      "metadata": {
        "id": "ilY_eD8xMXBf",
        "colab": {
          "base_uri": "https://localhost:8080/"
        },
        "outputId": "480ba7d8-62b2-44a9-e321-842fd212cf78"
      },
      "execution_count": null,
      "outputs": [
        {
          "output_type": "stream",
          "name": "stdout",
          "text": [
            "  age_income_group  MonthlyIncome_0_med  income_zscore_by_age\n",
            "0            40s_5             254000.0             -1.197206\n",
            "1            30s_8             404000.0             -1.470061\n",
            "2            20s_5             278000.0              0.256426\n",
            "3            20s_6             327000.0             -0.032776\n",
            "4            40s_5             258000.0             -0.964625\n"
          ]
        }
      ]
    },
    {
      "cell_type": "code",
      "source": [
        "print(df_train[['Age_numeric_0_med', 'MonthlyIncome_0_med', 'income_zscore_by_age']].head())"
      ],
      "metadata": {
        "colab": {
          "base_uri": "https://localhost:8080/"
        },
        "id": "QUndcDeLNk9L",
        "outputId": "9683ca0b-7674-4a87-feee-134233598788"
      },
      "execution_count": null,
      "outputs": [
        {
          "output_type": "stream",
          "name": "stdout",
          "text": [
            "   Age_numeric_0_med  MonthlyIncome_0_med  income_zscore_by_age\n",
            "0               48.0             254000.0             -1.197206\n",
            "1               30.0             404000.0             -1.470061\n",
            "2               25.0             278000.0              0.256426\n",
            "3               21.0             327000.0             -0.032776\n",
            "4               41.0             258000.0             -0.964625\n"
          ]
        }
      ]
    },
    {
      "cell_type": "code",
      "source": [
        "#income_zscore_by_ageの平均値を計算して0補完\n",
        "mean_zscore = df_train[\"income_zscore_by_age\"].mean()\n",
        "\n",
        "\n",
        "df_train[\"income_zscore_by_age\"] = df_train[\"income_zscore_by_age\"].replace(0, mean_zscore)\n",
        "\n",
        "# df_test に適用\n",
        "df_test[\"income_zscore_by_age\"] = df_test[\"income_zscore_by_age\"].replace(0, mean_zscore)\n",
        "\n",
        "\n",
        "print(df_train[\"income_zscore_by_age\"].value_counts())"
      ],
      "metadata": {
        "colab": {
          "base_uri": "https://localhost:8080/"
        },
        "id": "QFk70E6QjUo2",
        "outputId": "2ba14c4a-a9cf-40df-8984-78c26171d6e2"
      },
      "execution_count": null,
      "outputs": [
        {
          "output_type": "stream",
          "name": "stdout",
          "text": [
            "income_zscore_by_age\n",
            " 1.460466    76\n",
            " 1.477483    54\n",
            " 1.543817    50\n",
            " 1.362403    39\n",
            " 1.421970    36\n",
            "             ..\n",
            "-0.514836     1\n",
            "-0.090016     1\n",
            "-0.197167     1\n",
            "-1.783337     1\n",
            " 0.153039     1\n",
            "Name: count, Length: 994, dtype: int64\n"
          ]
        }
      ]
    },
    {
      "cell_type": "code",
      "source": [
        "#顧客のランクと商品ランクに基づく営業満足度\n",
        "df_train[\"Rank_Pitch\"] = df_train['ProductPitched_Score'] * df_train['Designation_rank'].astype(int)\n",
        "\n",
        "# df_testへの適用\n",
        "df_test[\"Rank_Pitch\"] = df_test['ProductPitched_Score'] * df_test['Designation_rank'].astype(int)\n",
        "\n",
        "\n",
        "print(df_train[\"Rank_Pitch\"].value_counts())"
      ],
      "metadata": {
        "colab": {
          "base_uri": "https://localhost:8080/"
        },
        "id": "K4nv9DBIODEP",
        "outputId": "7224d6b3-a653-4955-e8f8-8125e2e16d05"
      },
      "execution_count": null,
      "outputs": [
        {
          "output_type": "stream",
          "name": "stdout",
          "text": [
            "Rank_Pitch\n",
            "3     2152\n",
            "4      826\n",
            "16     298\n",
            "20     113\n",
            "2       24\n",
            "6       19\n",
            "8       18\n",
            "1       11\n",
            "12      10\n",
            "10       8\n",
            "9        5\n",
            "15       4\n",
            "5        1\n",
            "Name: count, dtype: int64\n"
          ]
        }
      ]
    },
    {
      "cell_type": "code",
      "source": [
        "# 年齢別ステータス\n",
        "df_train[\"Status_of_age\"] = (df_train[\"child_info_int\"] + df_train[\"material_score\"] + df_train[\"car_status_count\"]) / df_train[\"Age_numeric_0_med\"]\n",
        "df_train[\"Status_of_age\"] = df_train[\"Status_of_age\"].astype(float)\n",
        "\n",
        "# df_testへの適用\n",
        "df_test[\"Status_of_age\"] = (df_test[\"child_info_int\"] + df_test[\"material_score\"] + df_test[\"car_status_count\"]) / df_test[\"Age_numeric_0_med\"]\n",
        "df_test[\"Status_of_age\"] = df_test[\"Status_of_age\"].astype(float)\n",
        "\n",
        "\n",
        "#\n",
        "print(df_train[\"Status_of_age\"].value_counts())"
      ],
      "metadata": {
        "colab": {
          "base_uri": "https://localhost:8080/"
        },
        "id": "A42_xymzOdZX",
        "outputId": "8e5827f5-9e57-4253-95da-2c69c1859be7"
      },
      "execution_count": null,
      "outputs": [
        {
          "output_type": "stream",
          "name": "stdout",
          "text": [
            "Status_of_age\n",
            "0.100000    118\n",
            "0.125000     84\n",
            "0.090909     77\n",
            "0.133333     72\n",
            "0.066667     71\n",
            "           ... \n",
            "0.300000      1\n",
            "0.175000      1\n",
            "0.020408      1\n",
            "0.304348      1\n",
            "0.240000      1\n",
            "Name: count, Length: 193, dtype: int64\n"
          ]
        }
      ]
    },
    {
      "cell_type": "code",
      "source": [
        "#結婚有無+車有無+子供人数+一緒に旅行を計画している人＊年間旅行回数\n",
        "#→ユーザーのステータスと旅行頻度の関係の強調\n",
        "df_train[\"Status_of_travel\"] = (df_train[\"child_info_int\"] + df_train[\"material_score\"] + df_train[\"car_status_count\"]) * df_train[\"NumberOfTrips_year\"]\n",
        "df_train[\"Status_of_travel\"] = df_train[\"Status_of_travel\"].astype(int)\n",
        "\n",
        "# df_testへの適用\n",
        "df_test[\"Status_of_travel\"] = (df_test[\"child_info_int\"] + df_test[\"material_score\"] + df_test[\"car_status_count\"]) * df_test[\"NumberOfTrips_year\"]\n",
        "df_test[\"Status_of_travel\"] = df_test[\"Status_of_travel\"].astype(int)\n",
        "\n",
        "#\n",
        "print(df_train[\"Status_of_travel\"].value_counts())"
      ],
      "metadata": {
        "colab": {
          "base_uri": "https://localhost:8080/"
        },
        "id": "vyMB0lcCOplU",
        "outputId": "70e26fad-3a4f-4ac1-c525-4496966396aa"
      },
      "execution_count": null,
      "outputs": [
        {
          "output_type": "stream",
          "name": "stdout",
          "text": [
            "Status_of_travel\n",
            "6     481\n",
            "12    351\n",
            "4     348\n",
            "8     336\n",
            "15    266\n",
            "10    264\n",
            "20    188\n",
            "9     184\n",
            "2     169\n",
            "3     129\n",
            "25    107\n",
            "5      90\n",
            "18     79\n",
            "30     72\n",
            "21     72\n",
            "28     67\n",
            "14     50\n",
            "24     45\n",
            "16     44\n",
            "35     41\n",
            "1      36\n",
            "0      22\n",
            "42     19\n",
            "7      11\n",
            "36      8\n",
            "49      5\n",
            "32      3\n",
            "48      1\n",
            "40      1\n",
            "Name: count, dtype: int64\n"
          ]
        }
      ]
    },
    {
      "cell_type": "code",
      "source": [
        "df_train[\"Status_of_travel\"].hist()"
      ],
      "metadata": {
        "colab": {
          "base_uri": "https://localhost:8080/",
          "height": 447
        },
        "id": "VrgdjAlyO5Hn",
        "outputId": "cd83c586-775a-4cf3-aed8-96580d7ffa13"
      },
      "execution_count": null,
      "outputs": [
        {
          "output_type": "execute_result",
          "data": {
            "text/plain": [
              "<Axes: >"
            ]
          },
          "metadata": {},
          "execution_count": 792
        },
        {
          "output_type": "display_data",
          "data": {
            "text/plain": [
              "<Figure size 640x480 with 1 Axes>"
            ],
            "image/png": "[encoded data removed]"
          },
          "metadata": {}
        }
      ]
    },
    {
      "cell_type": "code",
      "source": [
        "# 意味合いに沿ってrank化\n",
        "rank_dict = {\n",
        "    'Large Business': 3,\n",
        "    'Small Business': 2,\n",
        "    'Salaried': 1,\n",
        "}\n",
        "\n",
        "# df_trainへの適用\n",
        "df_train['Occupation_rank'] = df_train['Occupation'].map(rank_dict).astype(int)\n",
        "\n",
        "# df_testへの適用\n",
        "df_test['Occupation_rank'] = df_test['Occupation'].map(rank_dict).astype(int)\n",
        "\n",
        "print(df_train[\"Occupation_rank\"].value_counts())"
      ],
      "metadata": {
        "colab": {
          "base_uri": "https://localhost:8080/"
        },
        "id": "6wXnQ3mSO8bR",
        "outputId": "daa456a8-61d3-42d4-9f1d-eacbd947cf29"
      },
      "execution_count": null,
      "outputs": [
        {
          "output_type": "stream",
          "name": "stdout",
          "text": [
            "Occupation_rank\n",
            "2    1727\n",
            "1    1401\n",
            "3     361\n",
            "Name: count, dtype: int64\n"
          ]
        }
      ]
    },
    {
      "cell_type": "code",
      "source": [
        "#職業ランク×都市ランク=収入が高い人は都市近郊（一つの経済指標）\n",
        "df_train[\"JobCityRank\"] = df_train[\"Occupation_rank\"] * df_train[\"CityTier_reverse\"]\n",
        "\n",
        "# df_testへの適用\n",
        "df_test[\"JobCityRank\"] = df_test[\"Occupation_rank\"] * df_test[\"CityTier_reverse\"]\n",
        "\n",
        "\n",
        "print(df_train[\"JobCityRank\"].value_counts())"
      ],
      "metadata": {
        "colab": {
          "base_uri": "https://localhost:8080/"
        },
        "id": "YyzfpsfkPL1V",
        "outputId": "0ee4ac7f-2197-4e31-cc1f-6dee6d56661e"
      },
      "execution_count": null,
      "outputs": [
        {
          "output_type": "stream",
          "name": "stdout",
          "text": [
            "JobCityRank\n",
            "2    859\n",
            "4    842\n",
            "6    780\n",
            "3    636\n",
            "9    210\n",
            "1    162\n",
            "Name: count, dtype: int64\n"
          ]
        }
      ]
    },
    {
      "cell_type": "code",
      "source": [
        "#Occupation_rankの各値に対するCityTier_reverseの出現回数を計算\n",
        "citytier_reverse_counts = df_train.groupby(\"Occupation_rank\")[\"CityTier_reverse\"].value_counts().to_dict()\n",
        "\n",
        "# 新しい特徴量を作成\n",
        "df_train[\"City_freq_Occupation\"] = df_train.apply(\n",
        "    lambda row: citytier_reverse_counts.get((row[\"Occupation_rank\"], row[\"CityTier_reverse\"]), 0),\n",
        "    axis=1,\n",
        ")\n",
        "df_test[\"City_freq_Occupation\"] = df_test.apply(\n",
        "    lambda row: citytier_reverse_counts.get((row[\"Occupation_rank\"], row[\"CityTier_reverse\"]), 0),\n",
        "    axis=1,\n",
        ")\n",
        "\n",
        "print(df_train[[\"Occupation_rank\", \"CityTier_reverse\", \"City_freq_Occupation\"]].head())\n"
      ],
      "metadata": {
        "colab": {
          "base_uri": "https://localhost:8080/"
        },
        "id": "NOnlQRPafNsY",
        "outputId": "f7f445c4-8c55-4a66-83d3-2c3ef3049f2f"
      },
      "execution_count": null,
      "outputs": [
        {
          "output_type": "stream",
          "name": "stdout",
          "text": [
            "   Occupation_rank  CityTier_reverse  City_freq_Occupation\n",
            "0                3                 2                   121\n",
            "1                1                 3                   606\n",
            "2                3                 3                   210\n",
            "3                2                 2                   842\n",
            "4                2                 1                   226\n"
          ]
        }
      ]
    },
    {
      "cell_type": "code",
      "source": [
        "#旅行を予定している人数が多いほど売り込み満足度のスコアが高いのでは\n",
        "df_train[\"GroupTravel_Satisfaction\"] = df_train[\"PitchSatisfactionScore\"] * df_train[\"NumberOfPersonVisiting\"]\n",
        "df_train[\"GroupTravel_Satisfaction\"] = df_train[\"GroupTravel_Satisfaction\"].astype(int)\n",
        "\n",
        "# df_testへの適用\n",
        "df_test[\"GroupTravel_Satisfaction\"] = df_test[\"PitchSatisfactionScore\"] * df_test[\"NumberOfPersonVisiting\"]\n",
        "df_test[\"GroupTravel_Satisfaction\"] = df_test[\"GroupTravel_Satisfaction\"].astype(int)\n",
        "\n",
        "print(df_train[\"GroupTravel_Satisfaction\"].value_counts())"
      ],
      "metadata": {
        "colab": {
          "base_uri": "https://localhost:8080/"
        },
        "id": "tY6TQZKxPVi6",
        "outputId": "504d86dd-f508-417d-e726-0a9ca4d1cd37"
      },
      "execution_count": null,
      "outputs": [
        {
          "output_type": "stream",
          "name": "stdout",
          "text": [
            "GroupTravel_Satisfaction\n",
            "6     849\n",
            "4     680\n",
            "2     435\n",
            "8     417\n",
            "3     349\n",
            "12    289\n",
            "9     270\n",
            "1      56\n",
            "10     44\n",
            "15     42\n",
            "16     41\n",
            "5      12\n",
            "20      5\n",
            "Name: count, dtype: int64\n"
          ]
        }
      ]
    },
    {
      "cell_type": "code",
      "source": [
        "from sklearn.preprocessing import QuantileTransformer\n",
        "\n",
        "# RANKGAUSSオブジェクトの作成\n",
        "qt = QuantileTransformer(n_quantiles=100, random_state=123, output_distribution='normal')\n",
        "\n",
        "# df_trainへの適用\n",
        "income_data_train = df_train[[\"MonthlyIncome_0_med\"]]\n",
        "qt.fit(income_data_train)  # df_trainのデータでfit\n",
        "df_train[\"M_income_transformed\"] = qt.transform(income_data_train)\n",
        "\n",
        "# df_testへの適用\n",
        "income_data_test = df_test[[\"MonthlyIncome_0_med\"]]\n",
        "df_test[\"M_income_transformed\"] = qt.transform(income_data_test)  # df_testのデータを変換\n",
        "\n",
        "df_train[\"M_income_transformed\"].hist(bins=50)"
      ],
      "metadata": {
        "colab": {
          "base_uri": "https://localhost:8080/",
          "height": 447
        },
        "id": "NrRh8CrvPikT",
        "outputId": "d1d49e6e-f8ce-4d90-91fa-a205352ecff8"
      },
      "execution_count": null,
      "outputs": [
        {
          "output_type": "execute_result",
          "data": {
            "text/plain": [
              "<Axes: >"
            ]
          },
          "metadata": {},
          "execution_count": 797
        },
        {
          "output_type": "display_data",
          "data": {
            "text/plain": [
              "<Figure size 640x480 with 1 Axes>"
            ],
            "image/png": "[encoded data removed]"
          },
          "metadata": {}
        }
      ]
    },
    {
      "cell_type": "code",
      "source": [
        "# RANKGAUSSオブジェクトの作成\n",
        "qt = QuantileTransformer(n_quantiles=100, random_state=123, output_distribution='normal')\n",
        "\n",
        "# 年収でも作成しておく\n",
        "income_data_train = df_train[[\"AnnualIncome_rounded\"]]\n",
        "qt.fit(income_data_train)  # df_trainのデータでfit\n",
        "df_train[\"A_income_transformed\"] = qt.transform(income_data_train)\n",
        "\n",
        "# df_testへの適用\n",
        "income_data_test = df_test[[\"AnnualIncome_rounded\"]]\n",
        "df_test[\"A_income_transformed\"] = qt.transform(income_data_test)  # df_testのデータを変換\n",
        "\n",
        "#\n",
        "df_train[\"A_income_transformed\"].hist(bins=50)"
      ],
      "metadata": {
        "colab": {
          "base_uri": "https://localhost:8080/",
          "height": 449
        },
        "id": "ucXaQgUEPz34",
        "outputId": "57361721-2adf-4bfa-f4db-6713e4b9199a"
      },
      "execution_count": null,
      "outputs": [
        {
          "output_type": "execute_result",
          "data": {
            "text/plain": [
              "<Axes: >"
            ]
          },
          "metadata": {},
          "execution_count": 798
        },
        {
          "output_type": "display_data",
          "data": {
            "text/plain": [
              "<Figure size 640x480 with 1 Axes>"
            ],
            "image/png": "[encoded data removed]"
          },
          "metadata": {}
        }
      ]
    },
    {
      "cell_type": "code",
      "source": [
        "# RANKGAUSSオブジェクトの作成\n",
        "qt = QuantileTransformer(n_quantiles=100, random_state=123, output_distribution='normal')\n",
        "\n",
        "# df_trainへの適用\n",
        "income_data_train = df_train[[\"Age_numeric_0_med\"]]\n",
        "qt.fit(income_data_train)  # df_trainのデータでfit\n",
        "df_train[\"Age_nume_transformed\"] = qt.transform(income_data_train)\n",
        "\n",
        "# df_testへの適用\n",
        "income_data_test = df_test[[\"Age_numeric_0_med\"]]\n",
        "df_test[\"Age_nume_transformed\"] = qt.transform(income_data_test)  # df_testのデータを変換\n",
        "\n",
        "#\n",
        "df_train[\"Age_nume_transformed\"].hist(bins=50)"
      ],
      "metadata": {
        "colab": {
          "base_uri": "https://localhost:8080/",
          "height": 447
        },
        "id": "KBIQm2jwQBW1",
        "outputId": "cb89c534-bcd9-47b8-8eb0-e1f7d68fcc26"
      },
      "execution_count": null,
      "outputs": [
        {
          "output_type": "execute_result",
          "data": {
            "text/plain": [
              "<Axes: >"
            ]
          },
          "metadata": {},
          "execution_count": 799
        },
        {
          "output_type": "display_data",
          "data": {
            "text/plain": [
              "<Figure size 640x480 with 1 Axes>"
            ],
            "image/png": "[encoded data removed]"
          },
          "metadata": {}
        }
      ]
    },
    {
      "cell_type": "code",
      "source": [
        "# RANKGAUSSオブジェクトの作成\n",
        "qt = QuantileTransformer(n_quantiles=100, random_state=123, output_distribution='normal')\n",
        "\n",
        "# df_trainへの適用\n",
        "income_data_train = df_train[[\"Age_Annual\"]]\n",
        "qt.fit(income_data_train)\n",
        "df_train[\"Age_ann_transformed\"] = qt.transform(income_data_train)\n",
        "\n",
        "# df_testへの適用\n",
        "income_data_test = df_test[[\"Age_Annual\"]]\n",
        "df_test[\"Age_ann_transformed\"] = qt.transform(income_data_test)\n",
        "\n",
        "#\n",
        "df_train[\"Age_ann_transformed\"].hist(bins=50)"
      ],
      "metadata": {
        "colab": {
          "base_uri": "https://localhost:8080/",
          "height": 447
        },
        "id": "02hPWd_iQguX",
        "outputId": "93f974bb-4e37-4b79-b33f-1f2e108c8bcd"
      },
      "execution_count": null,
      "outputs": [
        {
          "output_type": "execute_result",
          "data": {
            "text/plain": [
              "<Axes: >"
            ]
          },
          "metadata": {},
          "execution_count": 800
        },
        {
          "output_type": "display_data",
          "data": {
            "text/plain": [
              "<Figure size 640x480 with 1 Axes>"
            ],
            "image/png": "[encoded data removed]"
          },
          "metadata": {}
        }
      ]
    },
    {
      "cell_type": "code",
      "source": [
        "# RANKGAUSSオブジェクトの作成\n",
        "qt = QuantileTransformer(n_quantiles=100, random_state=123, output_distribution='normal')\n",
        "\n",
        "# df_trainへの適用\n",
        "income_data_train = df_train[[\"time_of_follow_new\"]]\n",
        "qt.fit(income_data_train)\n",
        "df_train[\"time_of_transformed\"] = qt.transform(income_data_train)\n",
        "\n",
        "# df_testへの適用\n",
        "income_data_test = df_test[[\"time_of_follow_new\"]]\n",
        "df_test[\"time_of_transformed\"] = qt.transform(income_data_test)\n",
        "\n",
        "#\n",
        "df_train[\"time_of_transformed\"].hist(bins=50)"
      ],
      "metadata": {
        "colab": {
          "base_uri": "https://localhost:8080/",
          "height": 447
        },
        "id": "fTI0Sh53Qv38",
        "outputId": "caf487ae-c454-43b7-b916-1d1c6368b73a"
      },
      "execution_count": null,
      "outputs": [
        {
          "output_type": "execute_result",
          "data": {
            "text/plain": [
              "<Axes: >"
            ]
          },
          "metadata": {},
          "execution_count": 801
        },
        {
          "output_type": "display_data",
          "data": {
            "text/plain": [
              "<Figure size 640x480 with 1 Axes>"
            ],
            "image/png": "[encoded data removed]"
          },
          "metadata": {}
        }
      ]
    },
    {
      "cell_type": "code",
      "source": [
        "df_train[\"time_of_transformed\"].describe()"
      ],
      "metadata": {
        "colab": {
          "base_uri": "https://localhost:8080/",
          "height": 335
        },
        "id": "6uyXrLRVfowV",
        "outputId": "c3cb2e8a-e843-4193-8448-9b162cdbf81d"
      },
      "execution_count": null,
      "outputs": [
        {
          "output_type": "execute_result",
          "data": {
            "text/plain": [
              "count    3489.000000\n",
              "mean        0.009761\n",
              "std         1.064442\n",
              "min        -5.199338\n",
              "25%        -0.666564\n",
              "50%        -0.050661\n",
              "75%         0.650837\n",
              "max         5.199338\n",
              "Name: time_of_transformed, dtype: float64"
            ],
            "text/html": [
              "<div>\n",
              "<style scoped>\n",
              "    .dataframe tbody tr th:only-of-type {\n",
              "        vertical-align: middle;\n",
              "    }\n",
              "\n",
              "    .dataframe tbody tr th {\n",
              "        vertical-align: top;\n",
              "    }\n",
              "\n",
              "    .dataframe thead th {\n",
              "        text-align: right;\n",
              "    }\n",
              "</style>\n",
              "<table border=\"1\" class=\"dataframe\">\n",
              "  <thead>\n",
              "    <tr style=\"text-align: right;\">\n",
              "      <th></th>\n",
              "      <th>time_of_transformed</th>\n",
              "    </tr>\n",
              "  </thead>\n",
              "  <tbody>\n",
              "    <tr>\n",
              "      <th>count</th>\n",
              "      <td>3489.000000</td>\n",
              "    </tr>\n",
              "    <tr>\n",
              "      <th>mean</th>\n",
              "      <td>0.009761</td>\n",
              "    </tr>\n",
              "    <tr>\n",
              "      <th>std</th>\n",
              "      <td>1.064442</td>\n",
              "    </tr>\n",
              "    <tr>\n",
              "      <th>min</th>\n",
              "      <td>-5.199338</td>\n",
              "    </tr>\n",
              "    <tr>\n",
              "      <th>25%</th>\n",
              "      <td>-0.666564</td>\n",
              "    </tr>\n",
              "    <tr>\n",
              "      <th>50%</th>\n",
              "      <td>-0.050661</td>\n",
              "    </tr>\n",
              "    <tr>\n",
              "      <th>75%</th>\n",
              "      <td>0.650837</td>\n",
              "    </tr>\n",
              "    <tr>\n",
              "      <th>max</th>\n",
              "      <td>5.199338</td>\n",
              "    </tr>\n",
              "  </tbody>\n",
              "</table>\n",
              "</div><br><label><b>dtype:</b> float64</label>"
            ]
          },
          "metadata": {},
          "execution_count": 802
        }
      ]
    },
    {
      "cell_type": "code",
      "source": [
        "# ホテルの評価*家族構成人数\n",
        "df_train[\"family\"] = df_train[\"family\"].astype(int)\n",
        "df_train[\"family_hotel_score\"] = df_train[\"PreferredPropertyStar\"] * df_train[\"family\"]\n",
        "df_train[\"family_hotel_score\"] = df_train[\"family_hotel_score\"].astype(int)\n",
        "\n",
        "# df_testへの適用\n",
        "df_test[\"family\"] = df_test[\"family\"].astype(int)\n",
        "df_test[\"family_hotel_score\"] = df_test[\"PreferredPropertyStar\"] * df_test[\"family\"]\n",
        "df_test[\"family_hotel_score\"] = df_test[\"family_hotel_score\"].astype(int)\n",
        "\n",
        "print(df_train[\"family_hotel_score\"].value_counts())"
      ],
      "metadata": {
        "colab": {
          "base_uri": "https://localhost:8080/"
        },
        "id": "LEWrsQEBQ8MG",
        "outputId": "88928721-907d-40b3-9024-532663a8916c"
      },
      "execution_count": null,
      "outputs": [
        {
          "output_type": "stream",
          "name": "stdout",
          "text": [
            "family_hotel_score\n",
            "6     782\n",
            "9     736\n",
            "12    566\n",
            "8     389\n",
            "3     374\n",
            "4     291\n",
            "16    125\n",
            "15     92\n",
            "10     64\n",
            "20     41\n",
            "5      25\n",
            "25      4\n",
            "Name: count, dtype: int64\n"
          ]
        }
      ]
    },
    {
      "cell_type": "code",
      "source": [
        "# 各年齢あたりの年収\n",
        "df_train[\"Annual_Age\"] = df_train[\"AnnualIncome_rounded\"] / df_train[\"Age_numeric_0_med\"].astype(int)\n",
        "\n",
        "# df_testへの適用\n",
        "df_test[\"Annual_Age\"] = df_test[\"AnnualIncome_rounded\"] / df_test[\"Age_numeric_0_med\"].astype(int)\n",
        "\n",
        "\n",
        "print(df_train[\"Annual_Age\"].value_counts())"
      ],
      "metadata": {
        "colab": {
          "base_uri": "https://localhost:8080/"
        },
        "id": "PbOD8vcURHpd",
        "outputId": "99eb662b-f922-4126-de92-7dfb34408375"
      },
      "execution_count": null,
      "outputs": [
        {
          "output_type": "stream",
          "name": "stdout",
          "text": [
            "Annual_Age\n",
            "12.000000    44\n",
            "10.000000    21\n",
            "8.000000     17\n",
            "15.000000    17\n",
            "9.000000     14\n",
            "             ..\n",
            "6.450980      1\n",
            "12.722222     1\n",
            "13.187500     1\n",
            "9.122807      1\n",
            "7.590909      1\n",
            "Name: count, Length: 2328, dtype: int64\n"
          ]
        }
      ]
    },
    {
      "cell_type": "code",
      "source": [
        "# 各顧客ランクあたりの年収\n",
        "df_train['income_Degi_rank'] = df_train['AnnualIncome_rounded'] / df_train['Designation_rank'].astype(int)\n",
        "\n",
        "# df_testへの適用\n",
        "df_test['income_Degi_rank'] = df_test['AnnualIncome_rounded'] / df_test['Designation_rank'].astype(int)\n",
        "\n",
        "#\n",
        "print(df_train['income_Degi_rank'].value_counts())"
      ],
      "metadata": {
        "colab": {
          "base_uri": "https://localhost:8080/"
        },
        "id": "VhPVU0qgRSBg",
        "outputId": "664d8519-f605-43d5-a9f4-a9be22f88e23"
      },
      "execution_count": null,
      "outputs": [
        {
          "output_type": "stream",
          "name": "stdout",
          "text": [
            "income_Degi_rank\n",
            "120.000000    113\n",
            "360.000000     81\n",
            "240.000000     72\n",
            "104.000000     46\n",
            "137.333333     37\n",
            "             ... \n",
            "144.500000      1\n",
            "127.750000      1\n",
            "159.666667      1\n",
            "157.333333      1\n",
            "158.500000      1\n",
            "Name: count, Length: 708, dtype: int64\n"
          ]
        }
      ]
    },
    {
      "cell_type": "code",
      "source": [
        "# 年収/顧客への売り込み時間\n",
        "df_train['Anual_div_pitch_time'] = df_train['AnnualIncome_rounded'] / df_train['Pitch_minutes_0_med'].replace(0, 1)\n",
        "\n",
        "# df_testへの適用\n",
        "df_test['Anual_div_pitch_time'] = df_test['AnnualIncome_rounded'] / df_test['Pitch_minutes_0_med'].replace(0, 1)\n",
        "\n",
        "#\n",
        "print(df_train['Anual_div_pitch_time'].value_counts())"
      ],
      "metadata": {
        "colab": {
          "base_uri": "https://localhost:8080/"
        },
        "id": "3UoJaRT9Re3O",
        "outputId": "728bcdfa-2b1d-4573-ed7b-a1b9fd04ea4e"
      },
      "execution_count": null,
      "outputs": [
        {
          "output_type": "stream",
          "name": "stdout",
          "text": [
            "Anual_div_pitch_time\n",
            "40.000000    36\n",
            "30.000000    27\n",
            "32.000000    24\n",
            "36.000000    21\n",
            "45.000000    20\n",
            "             ..\n",
            "37.833333     1\n",
            "19.833333     1\n",
            "19.285714     1\n",
            "22.222222     1\n",
            "37.111111     1\n",
            "Name: count, Length: 1928, dtype: int64\n"
          ]
        }
      ]
    },
    {
      "cell_type": "code",
      "source": [
        "df_train['Anual_div_pitch_time'].hist()"
      ],
      "metadata": {
        "colab": {
          "base_uri": "https://localhost:8080/",
          "height": 447
        },
        "id": "5y-dcEqKrNqv",
        "outputId": "80ea5c6d-95da-4569-ecb6-9a11462487b4"
      },
      "execution_count": null,
      "outputs": [
        {
          "output_type": "execute_result",
          "data": {
            "text/plain": [
              "<Axes: >"
            ]
          },
          "metadata": {},
          "execution_count": 807
        },
        {
          "output_type": "display_data",
          "data": {
            "text/plain": [
              "<Figure size 640x480 with 1 Axes>"
            ],
            "image/png": "[encoded data removed]"
          },
          "metadata": {}
        }
      ]
    },
    {
      "cell_type": "code",
      "source": [
        "# 総合的な営業力\n",
        "df_train[\"total_pitch_point\"] = df_train[\"NumberOfFollowups_max\"] * (df_train[\"PitchSatisfactionScore\"] + df_train[\"ProductPitched_Score\"] + df_train[\"Pitch_minutes_0_med\"])\n",
        "\n",
        "# df_testへの適用\n",
        "df_test[\"total_pitch_point\"] = df_test[\"NumberOfFollowups_max\"] * (df_test[\"PitchSatisfactionScore\"] + df_test[\"ProductPitched_Score\"] + df_test[\"Pitch_minutes_0_med\"])\n",
        "\n",
        "#\n",
        "print(df_train[\"total_pitch_point\"].value_counts())"
      ],
      "metadata": {
        "colab": {
          "base_uri": "https://localhost:8080/"
        },
        "id": "Z-P5CQ1WR0UX",
        "outputId": "07e3f99b-8f59-4fdc-d2d8-4451f3ea2538"
      },
      "execution_count": null,
      "outputs": [
        {
          "output_type": "stream",
          "name": "stdout",
          "text": [
            "total_pitch_point\n",
            "60.0     221\n",
            "48.0     169\n",
            "80.0     141\n",
            "72.0     132\n",
            "56.0     126\n",
            "        ... \n",
            "186.0      1\n",
            "216.0      1\n",
            "174.0      1\n",
            "82.0       1\n",
            "23.0       1\n",
            "Name: count, Length: 123, dtype: int64\n"
          ]
        }
      ]
    },
    {
      "cell_type": "code",
      "source": [
        "df_train[\"total_pitch_point\"].hist()"
      ],
      "metadata": {
        "colab": {
          "base_uri": "https://localhost:8080/",
          "height": 447
        },
        "id": "rahKTEu-R-j4",
        "outputId": "fbb4c4e5-77a8-4d88-dca5-6c977386d925"
      },
      "execution_count": null,
      "outputs": [
        {
          "output_type": "execute_result",
          "data": {
            "text/plain": [
              "<Axes: >"
            ]
          },
          "metadata": {},
          "execution_count": 809
        },
        {
          "output_type": "display_data",
          "data": {
            "text/plain": [
              "<Figure size 640x480 with 1 Axes>"
            ],
            "image/png": "[encoded data removed]"
          },
          "metadata": {}
        }
      ]
    },
    {
      "cell_type": "code",
      "source": [
        "# RANKGAUSSオブジェクトの作成\n",
        "qt = QuantileTransformer(n_quantiles=100, random_state=123, output_distribution='normal')\n",
        "\n",
        "# df_trainへの適用\n",
        "income_data_train = df_train[[\"total_pitch_point\"]]\n",
        "qt.fit(income_data_train)  # df_trainのデータでfit\n",
        "df_train[\"total_pitch_transformed\"] = qt.transform(income_data_train)\n",
        "\n",
        "# df_testへの適用\n",
        "income_data_test = df_test[[\"total_pitch_point\"]]\n",
        "df_test[\"total_pitch_transformed\"] = qt.transform(income_data_test)  # df_testのデータを変換\n",
        "\n",
        "#\n",
        "df_train[\"total_pitch_transformed\"].hist(bins=50)"
      ],
      "metadata": {
        "colab": {
          "base_uri": "https://localhost:8080/",
          "height": 447
        },
        "id": "JhIiwbYktAIu",
        "outputId": "77770e83-b930-448e-82ae-9fce90a04f36"
      },
      "execution_count": null,
      "outputs": [
        {
          "output_type": "execute_result",
          "data": {
            "text/plain": [
              "<Axes: >"
            ]
          },
          "metadata": {},
          "execution_count": 810
        },
        {
          "output_type": "display_data",
          "data": {
            "text/plain": [
              "<Figure size 640x480 with 1 Axes>"
            ],
            "image/png": "[encoded data removed]"
          },
          "metadata": {}
        }
      ]
    },
    {
      "cell_type": "code",
      "source": [
        "# 売り込み満足度*顧客ランク=満足度と顧客ランクが高いほど成約率も高いのでは\n",
        "df_train[\"RankSatisfaction\"] = df_train[\"PitchSatisfactionScore\"] * df_train[\"Designation_rank\"].astype(int)\n",
        "\n",
        "# df_testへの適用\n",
        "df_test[\"RankSatisfaction\"] = df_test[\"PitchSatisfactionScore\"] * df_test[\"Designation_rank\"].astype(int)\n",
        "\n",
        "#\n",
        "print(df_train[\"RankSatisfaction\"].value_counts())"
      ],
      "metadata": {
        "colab": {
          "base_uri": "https://localhost:8080/"
        },
        "id": "n6Pj-sT1SDqD",
        "outputId": "9ab4b2d5-75e5-48c9-fe78-9a505036ffbd"
      },
      "execution_count": null,
      "outputs": [
        {
          "output_type": "stream",
          "name": "stdout",
          "text": [
            "RankSatisfaction\n",
            "4     664\n",
            "2     632\n",
            "6     580\n",
            "12    362\n",
            "3     351\n",
            "8     275\n",
            "9     263\n",
            "1     189\n",
            "16     70\n",
            "20     33\n",
            "10     26\n",
            "15     23\n",
            "5      21\n",
            "Name: count, dtype: int64\n"
          ]
        }
      ]
    },
    {
      "cell_type": "code",
      "source": [
        "# 売り込み満足度*年収=高い数値になほど成約しやすいのでは\n",
        "df_train[\"Annual_satis_score\"] = df_train[\"PitchSatisfactionScore\"] * df_train[\"AnnualIncome_rounded\"]\n",
        "\n",
        "# df_testへの適用\n",
        "df_test[\"Annual_satis_score\"] = df_test[\"PitchSatisfactionScore\"] * df_test[\"AnnualIncome_rounded\"]\n",
        "\n",
        "#\n",
        "print(df_train[\"Annual_satis_score\"].value_counts())"
      ],
      "metadata": {
        "colab": {
          "base_uri": "https://localhost:8080/"
        },
        "id": "j37j6XmMSLLx",
        "outputId": "607b3983-dcd8-4f3e-f15c-7b690d500360"
      },
      "execution_count": null,
      "outputs": [
        {
          "output_type": "stream",
          "name": "stdout",
          "text": [
            "Annual_satis_score\n",
            "1440    81\n",
            "720     69\n",
            "960     44\n",
            "1080    42\n",
            "1648    38\n",
            "        ..\n",
            "353      1\n",
            "1340     1\n",
            "330      1\n",
            "1707     1\n",
            "334      1\n",
            "Name: count, Length: 920, dtype: int64\n"
          ]
        }
      ]
    },
    {
      "cell_type": "code",
      "source": [
        "df_train[\"Annual_satis_score\"].hist()"
      ],
      "metadata": {
        "colab": {
          "base_uri": "https://localhost:8080/",
          "height": 447
        },
        "id": "GICkRJGwrVVh",
        "outputId": "3b290711-a99c-4ead-a29c-2cbed148ab7a"
      },
      "execution_count": null,
      "outputs": [
        {
          "output_type": "execute_result",
          "data": {
            "text/plain": [
              "<Axes: >"
            ]
          },
          "metadata": {},
          "execution_count": 813
        },
        {
          "output_type": "display_data",
          "data": {
            "text/plain": [
              "<Figure size 640x480 with 1 Axes>"
            ],
            "image/png": "[encoded data removed]"
          },
          "metadata": {}
        }
      ]
    },
    {
      "cell_type": "code",
      "source": [
        "# RANKGAUSSオブジェクトの作成\n",
        "qt = QuantileTransformer(n_quantiles=100, random_state=123, output_distribution='normal')\n",
        "\n",
        "# df_trainへの適用\n",
        "income_data_train = df_train[[\"Annual_satis_score\"]]\n",
        "qt.fit(income_data_train)  # df_trainのデータでfit\n",
        "df_train[\"Annual_satis_transformed\"] = qt.transform(income_data_train)\n",
        "\n",
        "# df_testへの適用\n",
        "income_data_test = df_test[[\"Annual_satis_score\"]]\n",
        "df_test[\"Annual_satis_transformed\"] = qt.transform(income_data_test)  # df_testのデータを変換\n",
        "\n",
        "#\n",
        "df_train[\"Annual_satis_transformed\"].hist(bins=50)"
      ],
      "metadata": {
        "colab": {
          "base_uri": "https://localhost:8080/",
          "height": 447
        },
        "id": "5mtIc3BmtftP",
        "outputId": "6d51dfc0-772b-4958-8def-a63032a1615c"
      },
      "execution_count": null,
      "outputs": [
        {
          "output_type": "execute_result",
          "data": {
            "text/plain": [
              "<Axes: >"
            ]
          },
          "metadata": {},
          "execution_count": 814
        },
        {
          "output_type": "display_data",
          "data": {
            "text/plain": [
              "<Figure size 640x480 with 1 Axes>"
            ],
            "image/png": "[encoded data removed]"
          },
          "metadata": {}
        }
      ]
    },
    {
      "cell_type": "code",
      "source": [
        "df_train[\"Age_numeric_0_med\"].describe()"
      ],
      "metadata": {
        "colab": {
          "base_uri": "https://localhost:8080/",
          "height": 335
        },
        "id": "jH2IZiFgkiuE",
        "outputId": "2fb11740-069e-483d-eda7-7140dd53c7b2"
      },
      "execution_count": null,
      "outputs": [
        {
          "output_type": "execute_result",
          "data": {
            "text/plain": [
              "count    3489.000000\n",
              "mean       38.715391\n",
              "std         9.818951\n",
              "min        20.000000\n",
              "25%        31.000000\n",
              "50%        38.000000\n",
              "75%        46.000000\n",
              "max        60.000000\n",
              "Name: Age_numeric_0_med, dtype: float64"
            ],
            "text/html": [
              "<div>\n",
              "<style scoped>\n",
              "    .dataframe tbody tr th:only-of-type {\n",
              "        vertical-align: middle;\n",
              "    }\n",
              "\n",
              "    .dataframe tbody tr th {\n",
              "        vertical-align: top;\n",
              "    }\n",
              "\n",
              "    .dataframe thead th {\n",
              "        text-align: right;\n",
              "    }\n",
              "</style>\n",
              "<table border=\"1\" class=\"dataframe\">\n",
              "  <thead>\n",
              "    <tr style=\"text-align: right;\">\n",
              "      <th></th>\n",
              "      <th>Age_numeric_0_med</th>\n",
              "    </tr>\n",
              "  </thead>\n",
              "  <tbody>\n",
              "    <tr>\n",
              "      <th>count</th>\n",
              "      <td>3489.000000</td>\n",
              "    </tr>\n",
              "    <tr>\n",
              "      <th>mean</th>\n",
              "      <td>38.715391</td>\n",
              "    </tr>\n",
              "    <tr>\n",
              "      <th>std</th>\n",
              "      <td>9.818951</td>\n",
              "    </tr>\n",
              "    <tr>\n",
              "      <th>min</th>\n",
              "      <td>20.000000</td>\n",
              "    </tr>\n",
              "    <tr>\n",
              "      <th>25%</th>\n",
              "      <td>31.000000</td>\n",
              "    </tr>\n",
              "    <tr>\n",
              "      <th>50%</th>\n",
              "      <td>38.000000</td>\n",
              "    </tr>\n",
              "    <tr>\n",
              "      <th>75%</th>\n",
              "      <td>46.000000</td>\n",
              "    </tr>\n",
              "    <tr>\n",
              "      <th>max</th>\n",
              "      <td>60.000000</td>\n",
              "    </tr>\n",
              "  </tbody>\n",
              "</table>\n",
              "</div><br><label><b>dtype:</b> float64</label>"
            ]
          },
          "metadata": {},
          "execution_count": 815
        }
      ]
    },
    {
      "cell_type": "code",
      "source": [
        "df_train.isnull().sum()"
      ],
      "metadata": {
        "colab": {
          "base_uri": "https://localhost:8080/",
          "height": 458
        },
        "id": "r8XAmF6mCX6S",
        "outputId": "ce9f900d-7bfc-49d4-bc30-aeca31b65635"
      },
      "execution_count": null,
      "outputs": [
        {
          "output_type": "execute_result",
          "data": {
            "text/plain": [
              "id                          0\n",
              "Age                         0\n",
              "TypeofContact               6\n",
              "CityTier                    0\n",
              "DurationOfPitch             0\n",
              "                           ..\n",
              "total_pitch_point           0\n",
              "total_pitch_transformed     0\n",
              "RankSatisfaction            0\n",
              "Annual_satis_score          0\n",
              "Annual_satis_transformed    0\n",
              "Length: 97, dtype: int64"
            ],
            "text/html": [
              "<div>\n",
              "<style scoped>\n",
              "    .dataframe tbody tr th:only-of-type {\n",
              "        vertical-align: middle;\n",
              "    }\n",
              "\n",
              "    .dataframe tbody tr th {\n",
              "        vertical-align: top;\n",
              "    }\n",
              "\n",
              "    .dataframe thead th {\n",
              "        text-align: right;\n",
              "    }\n",
              "</style>\n",
              "<table border=\"1\" class=\"dataframe\">\n",
              "  <thead>\n",
              "    <tr style=\"text-align: right;\">\n",
              "      <th></th>\n",
              "      <th>0</th>\n",
              "    </tr>\n",
              "  </thead>\n",
              "  <tbody>\n",
              "    <tr>\n",
              "      <th>id</th>\n",
              "      <td>0</td>\n",
              "    </tr>\n",
              "    <tr>\n",
              "      <th>Age</th>\n",
              "      <td>0</td>\n",
              "    </tr>\n",
              "    <tr>\n",
              "      <th>TypeofContact</th>\n",
              "      <td>6</td>\n",
              "    </tr>\n",
              "    <tr>\n",
              "      <th>CityTier</th>\n",
              "      <td>0</td>\n",
              "    </tr>\n",
              "    <tr>\n",
              "      <th>DurationOfPitch</th>\n",
              "      <td>0</td>\n",
              "    </tr>\n",
              "    <tr>\n",
              "      <th>...</th>\n",
              "      <td>...</td>\n",
              "    </tr>\n",
              "    <tr>\n",
              "      <th>total_pitch_point</th>\n",
              "      <td>0</td>\n",
              "    </tr>\n",
              "    <tr>\n",
              "      <th>total_pitch_transformed</th>\n",
              "      <td>0</td>\n",
              "    </tr>\n",
              "    <tr>\n",
              "      <th>RankSatisfaction</th>\n",
              "      <td>0</td>\n",
              "    </tr>\n",
              "    <tr>\n",
              "      <th>Annual_satis_score</th>\n",
              "      <td>0</td>\n",
              "    </tr>\n",
              "    <tr>\n",
              "      <th>Annual_satis_transformed</th>\n",
              "      <td>0</td>\n",
              "    </tr>\n",
              "  </tbody>\n",
              "</table>\n",
              "<p>97 rows × 1 columns</p>\n",
              "</div><br><label><b>dtype:</b> int64</label>"
            ]
          },
          "metadata": {},
          "execution_count": 816
        }
      ]
    },
    {
      "cell_type": "code",
      "source": [
        "#クラスタリングできそうな関係性を見つける\n",
        "from sklearn.cluster import KMeans\n",
        "from sklearn.metrics import silhouette_score\n",
        "\n",
        "# クラスタ数を変化させながら、シルエット係数を計算し確認\n",
        "silhouette_scores = []\n",
        "for i in range(2, 11): # クラスタ数は2以上でないと計算できない\n",
        "    kmeans = KMeans(n_clusters=i, random_state=123)\n",
        "    labels = kmeans.fit_predict(df_train[[\n",
        "       \"PitchSatisfactionScore\",\n",
        "            \"ProductPitched_Score\",\"Passport\", \"RankSatisfaction\",]])\n",
        "    silhouette_scores.append(silhouette_score(df_train[[\"PitchSatisfactionScore\",\n",
        "            \"ProductPitched_Score\",\"Passport\", \"RankSatisfaction\",]], labels))\n",
        "\n",
        "# シルエット係数をグラフ化\n",
        "plt.plot(range(2, 11), silhouette_scores, marker='o')\n",
        "plt.xlabel('Number of Clusters')\n",
        "plt.ylabel('Silhouette Score')\n",
        "plt.title('Silhouette Analysis')\n",
        "plt.show()"
      ],
      "metadata": {
        "colab": {
          "base_uri": "https://localhost:8080/",
          "height": 472
        },
        "id": "xoDbBQivwSWY",
        "outputId": "2eeed2e5-8207-4b76-c23c-dc512f315251"
      },
      "execution_count": null,
      "outputs": [
        {
          "output_type": "display_data",
          "data": {
            "text/plain": [
              "<Figure size 640x480 with 1 Axes>"
            ],
            "image/png": "[encoded data removed]"
          },
          "metadata": {}
        }
      ]
    },
    {
      "cell_type": "code",
      "source": [
        "# クラスタリングに用いる特徴量を選択\n",
        "features = [\"PitchSatisfactionScore\",\n",
        "            \"ProductPitched_Score\",\"Passport\", \"RankSatisfaction\"]\n",
        "\n",
        "# 特徴量を標準化\n",
        "scaler = StandardScaler()\n",
        "scaled_features = scaler.fit_transform(df_train[features])\n",
        "\n",
        "# KMeansでクラスタリング (クラスタ数を5に設定)\n",
        "kmeans = KMeans(n_clusters=10, random_state=123)\n",
        "df_train['cluster_test'] = kmeans.fit_predict(scaled_features)\n",
        "\n",
        "# シルエット係数を計算\n",
        "silhouette_avg = silhouette_score(scaled_features, df_train['cluster_test'])\n",
        "print(f\"Silhouette Score: {silhouette_avg}\")\n",
        "\n",
        "# クラスタごとの特徴量の平均値を表示\n",
        "cluster_means = df_train.groupby('cluster_test')[features].mean()\n",
        "print(cluster_means)\n",
        "\n",
        "# テストデータにも同様の処理を適用\n",
        "scaled_features_test = scaler.transform(df_test[features]) # fit_transform ではなく transform を使用\n",
        "df_test['cluster_test'] = kmeans.predict(scaled_features_test)"
      ],
      "metadata": {
        "colab": {
          "base_uri": "https://localhost:8080/"
        },
        "id": "htlS7K5ovMGc",
        "outputId": "8ab212ce-8452-4e94-b7d2-e3151e9424af"
      },
      "execution_count": null,
      "outputs": [
        {
          "output_type": "stream",
          "name": "stdout",
          "text": [
            "Silhouette Score: 0.5658212555058868\n",
            "              PitchSatisfactionScore  ProductPitched_Score  Passport  \\\n",
            "cluster_test                                                           \n",
            "0                           2.345088              2.000000  0.000000   \n",
            "1                           3.718894              1.213518  0.000000   \n",
            "2                           2.324324              3.378378  1.000000   \n",
            "3                           1.000000              1.603448  0.000000   \n",
            "4                           2.237885              4.286344  0.000000   \n",
            "5                           3.649289              3.011848  0.000000   \n",
            "6                           2.422414              1.452586  1.000000   \n",
            "7                           4.333333              4.428571  0.142857   \n",
            "8                           2.008000              1.000000  0.000000   \n",
            "9                           1.602254              3.133655  0.000000   \n",
            "\n",
            "              RankSatisfaction  \n",
            "cluster_test                    \n",
            "0                     4.715365  \n",
            "1                    10.265745  \n",
            "2                     3.801802  \n",
            "3                     2.416667  \n",
            "4                     8.744493  \n",
            "5                     3.694313  \n",
            "6                     6.206897  \n",
            "7                    17.076190  \n",
            "8                     5.941333  \n",
            "9                     1.964573  \n"
          ]
        }
      ]
    },
    {
      "cell_type": "code",
      "source": [
        "df_train['cluster_test'].value_counts()"
      ],
      "metadata": {
        "colab": {
          "base_uri": "https://localhost:8080/",
          "height": 429
        },
        "id": "MGdTpkS32j-J",
        "outputId": "e047da5c-f8aa-4ea8-bfed-2fe0be03985b"
      },
      "execution_count": null,
      "outputs": [
        {
          "output_type": "execute_result",
          "data": {
            "text/plain": [
              "cluster_test\n",
              "1    651\n",
              "9    621\n",
              "5    422\n",
              "0    397\n",
              "8    375\n",
              "3    348\n",
              "6    232\n",
              "4    227\n",
              "2    111\n",
              "7    105\n",
              "Name: count, dtype: int64"
            ],
            "text/html": [
              "<div>\n",
              "<style scoped>\n",
              "    .dataframe tbody tr th:only-of-type {\n",
              "        vertical-align: middle;\n",
              "    }\n",
              "\n",
              "    .dataframe tbody tr th {\n",
              "        vertical-align: top;\n",
              "    }\n",
              "\n",
              "    .dataframe thead th {\n",
              "        text-align: right;\n",
              "    }\n",
              "</style>\n",
              "<table border=\"1\" class=\"dataframe\">\n",
              "  <thead>\n",
              "    <tr style=\"text-align: right;\">\n",
              "      <th></th>\n",
              "      <th>count</th>\n",
              "    </tr>\n",
              "    <tr>\n",
              "      <th>cluster_test</th>\n",
              "      <th></th>\n",
              "    </tr>\n",
              "  </thead>\n",
              "  <tbody>\n",
              "    <tr>\n",
              "      <th>1</th>\n",
              "      <td>651</td>\n",
              "    </tr>\n",
              "    <tr>\n",
              "      <th>9</th>\n",
              "      <td>621</td>\n",
              "    </tr>\n",
              "    <tr>\n",
              "      <th>5</th>\n",
              "      <td>422</td>\n",
              "    </tr>\n",
              "    <tr>\n",
              "      <th>0</th>\n",
              "      <td>397</td>\n",
              "    </tr>\n",
              "    <tr>\n",
              "      <th>8</th>\n",
              "      <td>375</td>\n",
              "    </tr>\n",
              "    <tr>\n",
              "      <th>3</th>\n",
              "      <td>348</td>\n",
              "    </tr>\n",
              "    <tr>\n",
              "      <th>6</th>\n",
              "      <td>232</td>\n",
              "    </tr>\n",
              "    <tr>\n",
              "      <th>4</th>\n",
              "      <td>227</td>\n",
              "    </tr>\n",
              "    <tr>\n",
              "      <th>2</th>\n",
              "      <td>111</td>\n",
              "    </tr>\n",
              "    <tr>\n",
              "      <th>7</th>\n",
              "      <td>105</td>\n",
              "    </tr>\n",
              "  </tbody>\n",
              "</table>\n",
              "</div><br><label><b>dtype:</b> int64</label>"
            ]
          },
          "metadata": {},
          "execution_count": 819
        }
      ]
    },
    {
      "cell_type": "code",
      "source": [
        "#ここまで特徴量作成\n",
        "df_train2 = df_train.copy()#lgbm用にコピー\n",
        "df_test2 = df_test.copy()#lgbm用にコピー"
      ],
      "metadata": {
        "id": "Dhw_QGjmE1At"
      },
      "execution_count": null,
      "outputs": []
    }
  ]
}